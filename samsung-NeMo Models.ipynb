{
 "cells": [
  {
   "cell_type": "code",
   "execution_count": 1,
   "id": "7ea4a96e",
   "metadata": {
    "execution": {
     "iopub.execute_input": "2024-11-07T05:28:48.305537Z",
     "iopub.status.busy": "2024-11-07T05:28:48.304578Z",
     "iopub.status.idle": "2024-11-07T05:33:10.756759Z",
     "shell.execute_reply": "2024-11-07T05:33:10.755544Z"
    },
    "id": "lJz6FDU1lRzc",
    "papermill": {
     "duration": 262.471566,
     "end_time": "2024-11-07T05:33:10.759056",
     "exception": false,
     "start_time": "2024-11-07T05:28:48.287490",
     "status": "completed"
    },
    "tags": []
   },
   "outputs": [
    {
     "name": "stdout",
     "output_type": "stream",
     "text": [
      "Collecting wget\r\n",
      "  Downloading wget-3.2.zip (10 kB)\r\n",
      "  Preparing metadata (setup.py) ... \u001b[?25l-\b \bdone\r\n",
      "\u001b[?25hBuilding wheels for collected packages: wget\r\n",
      "  Building wheel for wget (setup.py) ... \u001b[?25l-\b \b\\\b \bdone\r\n",
      "\u001b[?25h  Created wheel for wget: filename=wget-3.2-py3-none-any.whl size=9656 sha256=db99b1934ad2edd4220563c53b543f707bd54bbbafcb507b6b3b89ad13640d2d\r\n",
      "  Stored in directory: /root/.cache/pip/wheels/8b/f1/7f/5c94f0a7a505ca1c81cd1d9208ae2064675d97582078e6c769\r\n",
      "Successfully built wget\r\n",
      "Installing collected packages: wget\r\n",
      "Successfully installed wget-3.2\r\n",
      "\r\n",
      "\r\n",
      "\r\n",
      "libsndfile1 is already the newest version (1.0.31-2ubuntu0.1).\r\n",
      "libsndfile1 set to manually installed.\r\n",
      "ffmpeg is already the newest version (7:4.4.2-0ubuntu0.22.04.1).\r\n",
      "The following NEW packages will be installed:\r\n",
      "  sox\r\n",
      "0 upgraded, 1 newly installed, 0 to remove and 68 not upgraded.\r\n",
      "Need to get 104 kB of archives.\r\n",
      "After this operation, 201 kB of additional disk space will be used.\r\n",
      "Get:1 http://archive.ubuntu.com/ubuntu jammy-updates/universe amd64 sox amd64 14.4.2+git20190427-2+deb11u2ubuntu0.22.04.1 [104 kB]\r\n",
      "Fetched 104 kB in 0s (243 kB/s)\r\n",
      "Selecting previously unselected package sox.\r\n",
      "(Reading database ... 122996 files and directories currently installed.)\r\n",
      "Preparing to unpack .../sox_14.4.2+git20190427-2+deb11u2ubuntu0.22.04.1_amd64.deb ...\r\n",
      "Unpacking sox (14.4.2+git20190427-2+deb11u2ubuntu0.22.04.1) ...\r\n",
      "Setting up sox (14.4.2+git20190427-2+deb11u2ubuntu0.22.04.1) ...\r\n",
      "Processing triggers for man-db (2.10.2-1) ...\r\n",
      "Requirement already satisfied: text-unidecode in /opt/conda/lib/python3.10/site-packages (1.3)\r\n",
      "\u001b[33mDEPRECATION: git+https://github.com/NVIDIA/NeMo.git@main#egg=nemo_toolkit[all] contains an egg fragment with a non-PEP 508 name pip 25.0 will enforce this behaviour change. A possible replacement is to use the req @ url syntax, and remove the egg fragment. Discussion can be found at https://github.com/pypa/pip/issues/11617\u001b[0m\u001b[33m\r\n",
      "\u001b[0mCollecting nemo_toolkit (from nemo_toolkit[all])\r\n",
      "  Cloning https://github.com/NVIDIA/NeMo.git (to revision main) to /tmp/pip-install-vecwbmjn/nemo-toolkit_9b55a4d6d1004c3bb580f58e1cba3604\r\n",
      "  Running command git clone --filter=blob:none --quiet https://github.com/NVIDIA/NeMo.git /tmp/pip-install-vecwbmjn/nemo-toolkit_9b55a4d6d1004c3bb580f58e1cba3604\r\n",
      "  Resolved https://github.com/NVIDIA/NeMo.git to commit 6a5d4b5d19e05262a4182a83613753d424153a8f\r\n",
      "  Installing build dependencies ... \u001b[?25l-\b \b\\\b \b|\b \b/\b \bdone\r\n",
      "\u001b[?25h  Getting requirements to build wheel ... \u001b[?25l-\b \b\\\b \b|\b \bdone\r\n",
      "\u001b[?25h  Preparing metadata (pyproject.toml) ... \u001b[?25l-\b \b\\\b \b|\b \bdone\r\n",
      "\u001b[?25hRequirement already satisfied: huggingface-hub>=0.24 in /opt/conda/lib/python3.10/site-packages (from nemo_toolkit->nemo_toolkit[all]) (0.25.1)\r\n",
      "Requirement already satisfied: numba in /opt/conda/lib/python3.10/site-packages (from nemo_toolkit->nemo_toolkit[all]) (0.60.0)\r\n",
      "Requirement already satisfied: numpy>=1.22 in /opt/conda/lib/python3.10/site-packages (from nemo_toolkit->nemo_toolkit[all]) (1.26.4)\r\n",
      "Requirement already satisfied: onnx>=1.7.0 in /opt/conda/lib/python3.10/site-packages (from nemo_toolkit->nemo_toolkit[all]) (1.17.0)\r\n",
      "Requirement already satisfied: python-dateutil in /opt/conda/lib/python3.10/site-packages (from nemo_toolkit->nemo_toolkit[all]) (2.9.0.post0)\r\n",
      "Requirement already satisfied: ruamel.yaml in /opt/conda/lib/python3.10/site-packages (from nemo_toolkit->nemo_toolkit[all]) (0.18.6)\r\n",
      "Requirement already satisfied: scikit-learn in /opt/conda/lib/python3.10/site-packages (from nemo_toolkit->nemo_toolkit[all]) (1.2.2)\r\n",
      "Requirement already satisfied: setuptools>=70.0.0 in /opt/conda/lib/python3.10/site-packages (from nemo_toolkit->nemo_toolkit[all]) (70.0.0)\r\n",
      "Requirement already satisfied: tensorboard in /opt/conda/lib/python3.10/site-packages (from nemo_toolkit->nemo_toolkit[all]) (2.16.2)\r\n",
      "Requirement already satisfied: text-unidecode in /opt/conda/lib/python3.10/site-packages (from nemo_toolkit->nemo_toolkit[all]) (1.3)\r\n",
      "Requirement already satisfied: torch in /opt/conda/lib/python3.10/site-packages (from nemo_toolkit->nemo_toolkit[all]) (2.4.0)\r\n",
      "Requirement already satisfied: tqdm>=4.41.0 in /opt/conda/lib/python3.10/site-packages (from nemo_toolkit->nemo_toolkit[all]) (4.66.4)\r\n",
      "Requirement already satisfied: wget in /opt/conda/lib/python3.10/site-packages (from nemo_toolkit->nemo_toolkit[all]) (3.2)\r\n",
      "Requirement already satisfied: wrapt in /opt/conda/lib/python3.10/site-packages (from nemo_toolkit->nemo_toolkit[all]) (1.16.0)\r\n",
      "Collecting black~=24.3 (from nemo_toolkit->nemo_toolkit[all])\r\n",
      "  Downloading black-24.10.0-cp310-cp310-manylinux_2_17_x86_64.manylinux2014_x86_64.manylinux_2_28_x86_64.whl.metadata (79 kB)\r\n",
      "\u001b[2K     \u001b[90m━━━━━━━━━━━━━━━━━━━━━━━━━━━━━━━━━━━━━━━━\u001b[0m \u001b[32m79.2/79.2 kB\u001b[0m \u001b[31m4.3 MB/s\u001b[0m eta \u001b[36m0:00:00\u001b[0m\r\n",
      "\u001b[?25hRequirement already satisfied: click>=8.1 in /opt/conda/lib/python3.10/site-packages (from nemo_toolkit->nemo_toolkit[all]) (8.1.7)\r\n",
      "Requirement already satisfied: isort<6.0.0,>5.1.0 in /opt/conda/lib/python3.10/site-packages (from nemo_toolkit->nemo_toolkit[all]) (5.13.2)\r\n",
      "Collecting parameterized (from nemo_toolkit->nemo_toolkit[all])\r\n",
      "  Downloading parameterized-0.9.0-py2.py3-none-any.whl.metadata (18 kB)\r\n",
      "Requirement already satisfied: pytest in /opt/conda/lib/python3.10/site-packages (from nemo_toolkit->nemo_toolkit[all]) (8.3.3)\r\n",
      "Collecting pytest-mock (from nemo_toolkit->nemo_toolkit[all])\r\n",
      "  Downloading pytest_mock-3.14.0-py3-none-any.whl.metadata (3.8 kB)\r\n",
      "Collecting pytest-runner (from nemo_toolkit->nemo_toolkit[all])\r\n",
      "  Downloading pytest_runner-6.0.1-py3-none-any.whl.metadata (7.3 kB)\r\n",
      "Collecting sphinx (from nemo_toolkit->nemo_toolkit[all])\r\n",
      "  Downloading sphinx-8.1.3-py3-none-any.whl.metadata (6.4 kB)\r\n",
      "Collecting sphinxcontrib-bibtex (from nemo_toolkit->nemo_toolkit[all])\r\n",
      "  Downloading sphinxcontrib_bibtex-2.6.3-py3-none-any.whl.metadata (6.3 kB)\r\n",
      "Requirement already satisfied: wandb in /opt/conda/lib/python3.10/site-packages (from nemo_toolkit->nemo_toolkit[all]) (0.18.3)\r\n",
      "Requirement already satisfied: cloudpickle in /opt/conda/lib/python3.10/site-packages (from nemo_toolkit->nemo_toolkit[all]) (3.0.0)\r\n",
      "Collecting fiddle (from nemo_toolkit->nemo_toolkit[all])\r\n",
      "  Downloading fiddle-0.3.0-py3-none-any.whl.metadata (2.3 kB)\r\n",
      "Collecting hydra-core<=1.3.2,>1.3 (from nemo_toolkit->nemo_toolkit[all])\r\n",
      "  Downloading hydra_core-1.3.2-py3-none-any.whl.metadata (5.5 kB)\r\n",
      "Collecting omegaconf<=2.3 (from nemo_toolkit->nemo_toolkit[all])\r\n",
      "  Downloading omegaconf-2.3.0-py3-none-any.whl.metadata (3.9 kB)\r\n",
      "Requirement already satisfied: pytorch-lightning>2.2.1 in /opt/conda/lib/python3.10/site-packages (from nemo_toolkit->nemo_toolkit[all]) (2.4.0)\r\n",
      "Requirement already satisfied: torchmetrics>=0.11.0 in /opt/conda/lib/python3.10/site-packages (from nemo_toolkit->nemo_toolkit[all]) (1.4.2)\r\n",
      "Requirement already satisfied: transformers>=4.45.0 in /opt/conda/lib/python3.10/site-packages (from nemo_toolkit->nemo_toolkit[all]) (4.45.1)\r\n",
      "Collecting webdataset>=0.2.86 (from nemo_toolkit->nemo_toolkit[all])\r\n",
      "  Downloading webdataset-0.2.100-py3-none-any.whl.metadata (12 kB)\r\n",
      "Requirement already satisfied: datasets in /opt/conda/lib/python3.10/site-packages (from nemo_toolkit->nemo_toolkit[all]) (3.0.1)\r\n",
      "Collecting einops (from nemo_toolkit->nemo_toolkit[all])\r\n",
      "  Downloading einops-0.8.0-py3-none-any.whl.metadata (12 kB)\r\n",
      "Collecting inflect (from nemo_toolkit->nemo_toolkit[all])\r\n",
      "  Downloading inflect-7.4.0-py3-none-any.whl.metadata (21 kB)\r\n",
      "Collecting mediapy==1.1.6 (from nemo_toolkit->nemo_toolkit[all])\r\n",
      "  Downloading mediapy-1.1.6-py3-none-any.whl.metadata (4.8 kB)\r\n",
      "Requirement already satisfied: pandas in /opt/conda/lib/python3.10/site-packages (from nemo_toolkit->nemo_toolkit[all]) (2.2.2)\r\n",
      "Collecting sacremoses>=0.0.43 (from nemo_toolkit->nemo_toolkit[all])\r\n",
      "  Downloading sacremoses-0.1.1-py3-none-any.whl.metadata (8.3 kB)\r\n",
      "Requirement already satisfied: sentencepiece<1.0.0 in /opt/conda/lib/python3.10/site-packages (from nemo_toolkit->nemo_toolkit[all]) (0.2.0)\r\n",
      "Collecting braceexpand (from nemo_toolkit->nemo_toolkit[all])\r\n",
      "  Downloading braceexpand-0.1.7-py2.py3-none-any.whl.metadata (3.0 kB)\r\n",
      "Collecting editdistance (from nemo_toolkit->nemo_toolkit[all])\r\n",
      "  Downloading editdistance-0.8.1-cp310-cp310-manylinux_2_17_x86_64.manylinux2014_x86_64.whl.metadata (3.9 kB)\r\n",
      "Collecting g2p-en (from nemo_toolkit->nemo_toolkit[all])\r\n",
      "  Downloading g2p_en-2.1.0-py3-none-any.whl.metadata (4.5 kB)\r\n",
      "Collecting jiwer (from nemo_toolkit->nemo_toolkit[all])\r\n",
      "  Downloading jiwer-3.0.5-py3-none-any.whl.metadata (2.7 kB)\r\n",
      "Collecting kaldi-python-io (from nemo_toolkit->nemo_toolkit[all])\r\n",
      "  Downloading kaldi-python-io-1.2.2.tar.gz (8.8 kB)\r\n",
      "  Preparing metadata (setup.py) ... \u001b[?25l-\b \bdone\r\n",
      "\u001b[?25hCollecting kaldiio (from nemo_toolkit->nemo_toolkit[all])\r\n",
      "  Downloading kaldiio-2.18.0-py3-none-any.whl.metadata (13 kB)\r\n",
      "Collecting lhotse>=1.26.0 (from nemo_toolkit->nemo_toolkit[all])\r\n",
      "  Downloading lhotse-1.27.0-py3-none-any.whl.metadata (17 kB)\r\n",
      "Requirement already satisfied: librosa>=0.10.2 in /opt/conda/lib/python3.10/site-packages (from nemo_toolkit->nemo_toolkit[all]) (0.10.2.post1)\r\n",
      "Requirement already satisfied: marshmallow in /opt/conda/lib/python3.10/site-packages (from nemo_toolkit->nemo_toolkit[all]) (3.22.0)\r\n",
      "Requirement already satisfied: packaging in /opt/conda/lib/python3.10/site-packages (from nemo_toolkit->nemo_toolkit[all]) (21.3)\r\n",
      "Collecting pyannote.core (from nemo_toolkit->nemo_toolkit[all])\r\n",
      "  Downloading pyannote.core-5.0.0-py3-none-any.whl.metadata (1.4 kB)\r\n",
      "Collecting pyannote.metrics (from nemo_toolkit->nemo_toolkit[all])\r\n",
      "  Downloading pyannote.metrics-3.2.1-py3-none-any.whl.metadata (1.3 kB)\r\n",
      "Requirement already satisfied: pydub in /opt/conda/lib/python3.10/site-packages (from nemo_toolkit->nemo_toolkit[all]) (0.25.1)\r\n",
      "Collecting pyloudnorm (from nemo_toolkit->nemo_toolkit[all])\r\n",
      "  Downloading pyloudnorm-0.1.1-py3-none-any.whl.metadata (5.6 kB)\r\n",
      "Collecting resampy (from nemo_toolkit->nemo_toolkit[all])\r\n",
      "  Downloading resampy-0.4.3-py3-none-any.whl.metadata (3.0 kB)\r\n",
      "Requirement already satisfied: scipy>=0.14 in /opt/conda/lib/python3.10/site-packages (from nemo_toolkit->nemo_toolkit[all]) (1.14.1)\r\n",
      "Requirement already satisfied: soundfile in /opt/conda/lib/python3.10/site-packages (from nemo_toolkit->nemo_toolkit[all]) (0.12.1)\r\n",
      "Collecting sox (from nemo_toolkit->nemo_toolkit[all])\r\n",
      "  Downloading sox-1.5.0.tar.gz (63 kB)\r\n",
      "\u001b[2K     \u001b[90m━━━━━━━━━━━━━━━━━━━━━━━━━━━━━━━━━━━━━━━━\u001b[0m \u001b[32m63.9/63.9 kB\u001b[0m \u001b[31m3.5 MB/s\u001b[0m eta \u001b[36m0:00:00\u001b[0m\r\n",
      "\u001b[?25h  Preparing metadata (setup.py) ... \u001b[?25l-\b \b\\\b \bdone\r\n",
      "\u001b[?25hCollecting texterrors (from nemo_toolkit->nemo_toolkit[all])\r\n",
      "  Downloading texterrors-0.5.1.tar.gz (23 kB)\r\n",
      "  Preparing metadata (setup.py) ... \u001b[?25l-\b \b\\\b \bdone\r\n",
      "\u001b[?25hCollecting accelerated-scan (from nemo_toolkit->nemo_toolkit[all])\r\n",
      "  Downloading accelerated_scan-0.2.0-py3-none-any.whl.metadata (5.3 kB)\r\n",
      "Requirement already satisfied: boto3 in /opt/conda/lib/python3.10/site-packages (from nemo_toolkit->nemo_toolkit[all]) (1.26.100)\r\n",
      "Collecting faiss-cpu (from nemo_toolkit->nemo_toolkit[all])\r\n",
      "  Downloading faiss_cpu-1.9.0-cp310-cp310-manylinux_2_17_x86_64.manylinux2014_x86_64.whl.metadata (4.4 kB)\r\n",
      "Requirement already satisfied: fasttext in /opt/conda/lib/python3.10/site-packages (from nemo_toolkit->nemo_toolkit[all]) (0.9.3)\r\n",
      "Collecting flask-restful (from nemo_toolkit->nemo_toolkit[all])\r\n",
      "  Downloading Flask_RESTful-0.3.10-py2.py3-none-any.whl.metadata (1.0 kB)\r\n",
      "Collecting ftfy (from nemo_toolkit->nemo_toolkit[all])\r\n",
      "  Downloading ftfy-6.3.1-py3-none-any.whl.metadata (7.3 kB)\r\n",
      "Collecting gdown (from nemo_toolkit->nemo_toolkit[all])\r\n",
      "  Downloading gdown-5.2.0-py3-none-any.whl.metadata (5.8 kB)\r\n",
      "Requirement already satisfied: h5py in /opt/conda/lib/python3.10/site-packages (from nemo_toolkit->nemo_toolkit[all]) (3.11.0)\r\n",
      "Collecting ijson (from nemo_toolkit->nemo_toolkit[all])\r\n",
      "  Downloading ijson-3.3.0-cp310-cp310-manylinux_2_17_x86_64.manylinux2014_x86_64.whl.metadata (21 kB)\r\n",
      "Requirement already satisfied: jieba in /opt/conda/lib/python3.10/site-packages (from nemo_toolkit->nemo_toolkit[all]) (0.42.1)\r\n",
      "Collecting markdown2 (from nemo_toolkit->nemo_toolkit[all])\r\n",
      "  Downloading markdown2-2.5.1-py2.py3-none-any.whl.metadata (2.2 kB)\r\n",
      "Requirement already satisfied: matplotlib>=3.3.2 in /opt/conda/lib/python3.10/site-packages (from nemo_toolkit->nemo_toolkit[all]) (3.7.5)\r\n",
      "Collecting nltk>=3.6.5 (from nemo_toolkit->nemo_toolkit[all])\r\n",
      "  Downloading nltk-3.9.1-py3-none-any.whl.metadata (2.9 kB)\r\n",
      "Collecting opencc<1.1.7 (from nemo_toolkit->nemo_toolkit[all])\r\n",
      "  Downloading OpenCC-1.1.6-cp310-cp310-manylinux1_x86_64.whl.metadata (12 kB)\r\n",
      "Collecting pangu (from nemo_toolkit->nemo_toolkit[all])\r\n",
      "  Downloading pangu-4.0.6.1-py3-none-any.whl.metadata (5.3 kB)\r\n",
      "Requirement already satisfied: prettytable in /opt/conda/lib/python3.10/site-packages (from nemo_toolkit->nemo_toolkit[all]) (3.10.0)\r\n",
      "Collecting rapidfuzz (from nemo_toolkit->nemo_toolkit[all])\r\n",
      "  Downloading rapidfuzz-3.10.1-cp310-cp310-manylinux_2_17_x86_64.manylinux2014_x86_64.whl.metadata (11 kB)\r\n",
      "Collecting rouge-score (from nemo_toolkit->nemo_toolkit[all])\r\n",
      "  Downloading rouge_score-0.1.2.tar.gz (17 kB)\r\n",
      "  Preparing metadata (setup.py) ... \u001b[?25l-\b \bdone\r\n",
      "\u001b[?25hCollecting sacrebleu (from nemo_toolkit->nemo_toolkit[all])\r\n",
      "  Downloading sacrebleu-2.4.3-py3-none-any.whl.metadata (51 kB)\r\n",
      "\u001b[2K     \u001b[90m━━━━━━━━━━━━━━━━━━━━━━━━━━━━━━━━━━━━━━━━\u001b[0m \u001b[32m51.8/51.8 kB\u001b[0m \u001b[31m2.6 MB/s\u001b[0m eta \u001b[36m0:00:00\u001b[0m\r\n",
      "\u001b[?25hCollecting sentence-transformers (from nemo_toolkit->nemo_toolkit[all])\r\n",
      "  Downloading sentence_transformers-3.2.1-py3-none-any.whl.metadata (10 kB)\r\n",
      "Collecting tensorstore<0.1.46 (from nemo_toolkit->nemo_toolkit[all])\r\n",
      "  Downloading tensorstore-0.1.45-cp310-cp310-manylinux_2_17_x86_64.manylinux2014_x86_64.whl.metadata (2.9 kB)\r\n",
      "Collecting tiktoken==0.7.0 (from nemo_toolkit->nemo_toolkit[all])\r\n",
      "  Downloading tiktoken-0.7.0-cp310-cp310-manylinux_2_17_x86_64.manylinux2014_x86_64.whl.metadata (6.6 kB)\r\n",
      "Collecting zarr (from nemo_toolkit->nemo_toolkit[all])\r\n",
      "  Downloading zarr-2.18.3-py3-none-any.whl.metadata (5.7 kB)\r\n",
      "Collecting attrdict (from nemo_toolkit->nemo_toolkit[all])\r\n",
      "  Downloading attrdict-2.0.1-py2.py3-none-any.whl.metadata (6.7 kB)\r\n",
      "Requirement already satisfied: janome in /opt/conda/lib/python3.10/site-packages (from nemo_toolkit->nemo_toolkit[all]) (0.5.0)\r\n",
      "Requirement already satisfied: kornia in /opt/conda/lib/python3.10/site-packages (from nemo_toolkit->nemo_toolkit[all]) (0.7.3)\r\n",
      "Collecting pypinyin (from nemo_toolkit->nemo_toolkit[all])\r\n",
      "  Downloading pypinyin-0.53.0-py2.py3-none-any.whl.metadata (12 kB)\r\n",
      "Collecting pypinyin-dict (from nemo_toolkit->nemo_toolkit[all])\r\n",
      "  Downloading pypinyin_dict-0.8.0-py2.py3-none-any.whl.metadata (3.6 kB)\r\n",
      "Collecting progress>=1.5 (from nemo_toolkit->nemo_toolkit[all])\r\n",
      "  Downloading progress-1.6.tar.gz (7.8 kB)\r\n",
      "  Preparing metadata (setup.py) ... \u001b[?25l-\b \bdone\r\n",
      "\u001b[?25hRequirement already satisfied: tabulate>=0.8.7 in /opt/conda/lib/python3.10/site-packages (from nemo_toolkit->nemo_toolkit[all]) (0.9.0)\r\n",
      "Collecting textdistance>=4.1.5 (from nemo_toolkit->nemo_toolkit[all])\r\n",
      "  Downloading textdistance-4.6.3-py3-none-any.whl.metadata (18 kB)\r\n",
      "Collecting addict (from nemo_toolkit->nemo_toolkit[all])\r\n",
      "  Downloading addict-2.4.0-py3-none-any.whl.metadata (1.0 kB)\r\n",
      "Collecting clip (from nemo_toolkit->nemo_toolkit[all])\r\n",
      "  Downloading clip-0.2.0.tar.gz (5.5 kB)\r\n",
      "  Preparing metadata (setup.py) ... \u001b[?25l-\b \bdone\r\n",
      "\u001b[?25hCollecting diffusers>=0.19.3 (from nemo_toolkit->nemo_toolkit[all])\r\n",
      "  Downloading diffusers-0.31.0-py3-none-any.whl.metadata (18 kB)\r\n",
      "Collecting einops-exts (from nemo_toolkit->nemo_toolkit[all])\r\n",
      "  Downloading einops_exts-0.0.4-py3-none-any.whl.metadata (621 bytes)\r\n",
      "Requirement already satisfied: imageio in /opt/conda/lib/python3.10/site-packages (from nemo_toolkit->nemo_toolkit[all]) (2.34.1)\r\n",
      "Collecting megatron-energon (from nemo_toolkit->nemo_toolkit[all])\r\n",
      "  Downloading megatron_energon-3.0.1-py3-none-any.whl.metadata (4.7 kB)\r\n",
      "Collecting nerfacc>=0.5.3 (from nemo_toolkit->nemo_toolkit[all])\r\n",
      "  Downloading nerfacc-0.5.3-py3-none-any.whl.metadata (915 bytes)\r\n",
      "Collecting open-clip-torch==2.24.0 (from nemo_toolkit->nemo_toolkit[all])\r\n",
      "  Downloading open_clip_torch-2.24.0-py3-none-any.whl.metadata (30 kB)\r\n",
      "Collecting PyMCubes (from nemo_toolkit->nemo_toolkit[all])\r\n",
      "  Downloading PyMCubes-0.1.6-cp310-cp310-manylinux_2_17_x86_64.manylinux2014_x86_64.whl.metadata (868 bytes)\r\n",
      "Collecting taming-transformers (from nemo_toolkit->nemo_toolkit[all])\r\n",
      "  Downloading taming_transformers-0.0.1-py3-none-any.whl.metadata (499 bytes)\r\n",
      "Collecting torchdiffeq (from nemo_toolkit->nemo_toolkit[all])\r\n",
      "  Downloading torchdiffeq-0.2.4-py3-none-any.whl.metadata (440 bytes)\r\n",
      "Collecting torchsde (from nemo_toolkit->nemo_toolkit[all])\r\n",
      "  Downloading torchsde-0.2.6-py3-none-any.whl.metadata (5.3 kB)\r\n",
      "Collecting trimesh (from nemo_toolkit->nemo_toolkit[all])\r\n",
      "  Downloading trimesh-4.5.2-py3-none-any.whl.metadata (18 kB)\r\n",
      "Collecting pesq (from nemo_toolkit->nemo_toolkit[all])\r\n",
      "  Downloading pesq-0.0.4.tar.gz (38 kB)\r\n",
      "  Preparing metadata (setup.py) ... \u001b[?25l-\b \b\\\b \bdone\r\n",
      "\u001b[?25hCollecting pystoi (from nemo_toolkit->nemo_toolkit[all])\r\n",
      "  Downloading pystoi-0.4.1-py2.py3-none-any.whl.metadata (4.0 kB)\r\n",
      "Collecting nemo-text-processing (from nemo_toolkit->nemo_toolkit[all])\r\n",
      "  Downloading nemo_text_processing-1.1.0-py3-none-any.whl.metadata (7.3 kB)\r\n",
      "Collecting mamba-ssm==2.2.2 (from nemo_toolkit->nemo_toolkit[all])\r\n",
      "  Downloading mamba_ssm-2.2.2.tar.gz (85 kB)\r\n",
      "\u001b[2K     \u001b[90m━━━━━━━━━━━━━━━━━━━━━━━━━━━━━━━━━━━━━━━━\u001b[0m \u001b[32m85.4/85.4 kB\u001b[0m \u001b[31m4.3 MB/s\u001b[0m eta \u001b[36m0:00:00\u001b[0m\r\n",
      "\u001b[?25h  Preparing metadata (setup.py) ... \u001b[?25l-\b \bdone\r\n",
      "\u001b[?25hCollecting decord (from nemo_toolkit->nemo_toolkit[all])\r\n",
      "  Downloading decord-0.6.0-py3-none-manylinux2010_x86_64.whl.metadata (422 bytes)\r\n",
      "Requirement already satisfied: ninja in /opt/conda/lib/python3.10/site-packages (from mamba-ssm==2.2.2->nemo_toolkit->nemo_toolkit[all]) (1.11.1.1)\r\n",
      "Collecting triton (from mamba-ssm==2.2.2->nemo_toolkit->nemo_toolkit[all])\r\n",
      "  Downloading triton-3.1.0-cp310-cp310-manylinux_2_17_x86_64.manylinux2014_x86_64.whl.metadata (1.3 kB)\r\n",
      "Requirement already satisfied: ipython in /opt/conda/lib/python3.10/site-packages (from mediapy==1.1.6->nemo_toolkit->nemo_toolkit[all]) (8.21.0)\r\n",
      "Requirement already satisfied: Pillow in /opt/conda/lib/python3.10/site-packages (from mediapy==1.1.6->nemo_toolkit->nemo_toolkit[all]) (10.3.0)\r\n",
      "Requirement already satisfied: torchvision in /opt/conda/lib/python3.10/site-packages (from open-clip-torch==2.24.0->nemo_toolkit->nemo_toolkit[all]) (0.19.0)\r\n",
      "Requirement already satisfied: regex in /opt/conda/lib/python3.10/site-packages (from open-clip-torch==2.24.0->nemo_toolkit->nemo_toolkit[all]) (2024.5.15)\r\n",
      "Requirement already satisfied: protobuf in /opt/conda/lib/python3.10/site-packages (from open-clip-torch==2.24.0->nemo_toolkit->nemo_toolkit[all]) (3.20.3)\r\n",
      "Requirement already satisfied: timm in /opt/conda/lib/python3.10/site-packages (from open-clip-torch==2.24.0->nemo_toolkit->nemo_toolkit[all]) (1.0.9)\r\n",
      "Requirement already satisfied: requests>=2.26.0 in /opt/conda/lib/python3.10/site-packages (from tiktoken==0.7.0->nemo_toolkit->nemo_toolkit[all]) (2.32.3)\r\n",
      "Requirement already satisfied: mypy-extensions>=0.4.3 in /opt/conda/lib/python3.10/site-packages (from black~=24.3->nemo_toolkit->nemo_toolkit[all]) (1.0.0)\r\n",
      "Collecting packaging (from nemo_toolkit->nemo_toolkit[all])\r\n",
      "  Downloading packaging-24.1-py3-none-any.whl.metadata (3.2 kB)\r\n",
      "Collecting pathspec>=0.9.0 (from black~=24.3->nemo_toolkit->nemo_toolkit[all])\r\n",
      "  Downloading pathspec-0.12.1-py3-none-any.whl.metadata (21 kB)\r\n",
      "Requirement already satisfied: platformdirs>=2 in /opt/conda/lib/python3.10/site-packages (from black~=24.3->nemo_toolkit->nemo_toolkit[all]) (3.11.0)\r\n",
      "Requirement already satisfied: tomli>=1.1.0 in /opt/conda/lib/python3.10/site-packages (from black~=24.3->nemo_toolkit->nemo_toolkit[all]) (2.0.1)\r\n",
      "Requirement already satisfied: typing-extensions>=4.0.1 in /opt/conda/lib/python3.10/site-packages (from black~=24.3->nemo_toolkit->nemo_toolkit[all]) (4.12.2)\r\n",
      "Requirement already satisfied: importlib-metadata in /opt/conda/lib/python3.10/site-packages (from diffusers>=0.19.3->nemo_toolkit->nemo_toolkit[all]) (7.0.0)\r\n",
      "Requirement already satisfied: filelock in /opt/conda/lib/python3.10/site-packages (from diffusers>=0.19.3->nemo_toolkit->nemo_toolkit[all]) (3.15.1)\r\n",
      "Requirement already satisfied: safetensors>=0.3.1 in /opt/conda/lib/python3.10/site-packages (from diffusers>=0.19.3->nemo_toolkit->nemo_toolkit[all]) (0.4.5)\r\n",
      "Requirement already satisfied: fsspec>=2023.5.0 in /opt/conda/lib/python3.10/site-packages (from huggingface-hub>=0.24->nemo_toolkit->nemo_toolkit[all]) (2024.6.1)\r\n",
      "Requirement already satisfied: pyyaml>=5.1 in /opt/conda/lib/python3.10/site-packages (from huggingface-hub>=0.24->nemo_toolkit->nemo_toolkit[all]) (6.0.2)\r\n",
      "Collecting antlr4-python3-runtime==4.9.* (from hydra-core<=1.3.2,>1.3->nemo_toolkit->nemo_toolkit[all])\r\n",
      "  Downloading antlr4-python3-runtime-4.9.3.tar.gz (117 kB)\r\n",
      "\u001b[2K     \u001b[90m━━━━━━━━━━━━━━━━━━━━━━━━━━━━━━━━━━━━━━━\u001b[0m \u001b[32m117.0/117.0 kB\u001b[0m \u001b[31m7.6 MB/s\u001b[0m eta \u001b[36m0:00:00\u001b[0m\r\n",
      "\u001b[?25h  Preparing metadata (setup.py) ... \u001b[?25l-\b \bdone\r\n",
      "\u001b[?25hRequirement already satisfied: audioread>=2.1.9 in /opt/conda/lib/python3.10/site-packages (from lhotse>=1.26.0->nemo_toolkit->nemo_toolkit[all]) (3.0.1)\r\n",
      "Requirement already satisfied: cytoolz>=0.10.1 in /opt/conda/lib/python3.10/site-packages (from lhotse>=1.26.0->nemo_toolkit->nemo_toolkit[all]) (0.12.3)\r\n",
      "Collecting intervaltree>=3.1.0 (from lhotse>=1.26.0->nemo_toolkit->nemo_toolkit[all])\r\n",
      "  Downloading intervaltree-3.1.0.tar.gz (32 kB)\r\n",
      "  Preparing metadata (setup.py) ... \u001b[?25l-\b \bdone\r\n",
      "\u001b[?25hCollecting lilcom>=1.1.0 (from lhotse>=1.26.0->nemo_toolkit->nemo_toolkit[all])\r\n",
      "  Downloading lilcom-1.8.0-cp310-cp310-manylinux_2_17_x86_64.manylinux2014_x86_64.whl.metadata (3.0 kB)\r\n",
      "Requirement already satisfied: joblib>=0.14 in /opt/conda/lib/python3.10/site-packages (from librosa>=0.10.2->nemo_toolkit->nemo_toolkit[all]) (1.4.2)\r\n",
      "Requirement already satisfied: decorator>=4.3.0 in /opt/conda/lib/python3.10/site-packages (from librosa>=0.10.2->nemo_toolkit->nemo_toolkit[all]) (5.1.1)\r\n",
      "Requirement already satisfied: pooch>=1.1 in /opt/conda/lib/python3.10/site-packages (from librosa>=0.10.2->nemo_toolkit->nemo_toolkit[all]) (1.8.2)\r\n",
      "Requirement already satisfied: soxr>=0.3.2 in /opt/conda/lib/python3.10/site-packages (from librosa>=0.10.2->nemo_toolkit->nemo_toolkit[all]) (0.5.0.post1)\r\n",
      "Requirement already satisfied: lazy-loader>=0.1 in /opt/conda/lib/python3.10/site-packages (from librosa>=0.10.2->nemo_toolkit->nemo_toolkit[all]) (0.4)\r\n",
      "Requirement already satisfied: msgpack>=1.0 in /opt/conda/lib/python3.10/site-packages (from librosa>=0.10.2->nemo_toolkit->nemo_toolkit[all]) (1.0.8)\r\n",
      "Requirement already satisfied: contourpy>=1.0.1 in /opt/conda/lib/python3.10/site-packages (from matplotlib>=3.3.2->nemo_toolkit->nemo_toolkit[all]) (1.2.1)\r\n",
      "Requirement already satisfied: cycler>=0.10 in /opt/conda/lib/python3.10/site-packages (from matplotlib>=3.3.2->nemo_toolkit->nemo_toolkit[all]) (0.12.1)\r\n",
      "Requirement already satisfied: fonttools>=4.22.0 in /opt/conda/lib/python3.10/site-packages (from matplotlib>=3.3.2->nemo_toolkit->nemo_toolkit[all]) (4.53.0)\r\n",
      "Requirement already satisfied: kiwisolver>=1.0.1 in /opt/conda/lib/python3.10/site-packages (from matplotlib>=3.3.2->nemo_toolkit->nemo_toolkit[all]) (1.4.5)\r\n",
      "Requirement already satisfied: pyparsing>=2.3.1 in /opt/conda/lib/python3.10/site-packages (from matplotlib>=3.3.2->nemo_toolkit->nemo_toolkit[all]) (3.1.2)\r\n",
      "Requirement already satisfied: rich>=12 in /opt/conda/lib/python3.10/site-packages (from nerfacc>=0.5.3->nemo_toolkit->nemo_toolkit[all]) (13.7.1)\r\n",
      "Requirement already satisfied: llvmlite<0.44,>=0.43.0dev0 in /opt/conda/lib/python3.10/site-packages (from numba->nemo_toolkit->nemo_toolkit[all]) (0.43.0)\r\n",
      "Requirement already satisfied: six>=1.5 in /opt/conda/lib/python3.10/site-packages (from python-dateutil->nemo_toolkit->nemo_toolkit[all]) (1.16.0)\r\n",
      "Requirement already satisfied: lightning-utilities>=0.10.0 in /opt/conda/lib/python3.10/site-packages (from pytorch-lightning>2.2.1->nemo_toolkit->nemo_toolkit[all]) (0.11.7)\r\n",
      "Requirement already satisfied: threadpoolctl>=2.0.0 in /opt/conda/lib/python3.10/site-packages (from scikit-learn->nemo_toolkit->nemo_toolkit[all]) (3.5.0)\r\n",
      "Requirement already satisfied: cffi>=1.0 in /opt/conda/lib/python3.10/site-packages (from soundfile->nemo_toolkit->nemo_toolkit[all]) (1.16.0)\r\n",
      "Requirement already satisfied: sympy in /opt/conda/lib/python3.10/site-packages (from torch->nemo_toolkit->nemo_toolkit[all]) (1.13.3)\r\n",
      "Requirement already satisfied: networkx in /opt/conda/lib/python3.10/site-packages (from torch->nemo_toolkit->nemo_toolkit[all]) (3.3)\r\n",
      "Requirement already satisfied: jinja2 in /opt/conda/lib/python3.10/site-packages (from torch->nemo_toolkit->nemo_toolkit[all]) (3.1.4)\r\n",
      "Requirement already satisfied: tokenizers<0.21,>=0.20 in /opt/conda/lib/python3.10/site-packages (from transformers>=4.45.0->nemo_toolkit->nemo_toolkit[all]) (0.20.0)\r\n",
      "Collecting botocore<1.30.0,>=1.29.100 (from boto3->nemo_toolkit->nemo_toolkit[all])\r\n",
      "  Downloading botocore-1.29.165-py3-none-any.whl.metadata (5.9 kB)\r\n",
      "Requirement already satisfied: jmespath<2.0.0,>=0.7.1 in /opt/conda/lib/python3.10/site-packages (from boto3->nemo_toolkit->nemo_toolkit[all]) (1.0.1)\r\n",
      "Requirement already satisfied: s3transfer<0.7.0,>=0.6.0 in /opt/conda/lib/python3.10/site-packages (from boto3->nemo_toolkit->nemo_toolkit[all]) (0.6.2)\r\n",
      "Requirement already satisfied: pyarrow>=15.0.0 in /opt/conda/lib/python3.10/site-packages (from datasets->nemo_toolkit->nemo_toolkit[all]) (16.1.0)\r\n",
      "Requirement already satisfied: dill<0.3.9,>=0.3.0 in /opt/conda/lib/python3.10/site-packages (from datasets->nemo_toolkit->nemo_toolkit[all]) (0.3.8)\r\n",
      "Requirement already satisfied: xxhash in /opt/conda/lib/python3.10/site-packages (from datasets->nemo_toolkit->nemo_toolkit[all]) (3.4.1)\r\n",
      "Requirement already satisfied: multiprocess in /opt/conda/lib/python3.10/site-packages (from datasets->nemo_toolkit->nemo_toolkit[all]) (0.70.16)\r\n",
      "Requirement already satisfied: aiohttp in /opt/conda/lib/python3.10/site-packages (from datasets->nemo_toolkit->nemo_toolkit[all]) (3.9.5)\r\n",
      "Requirement already satisfied: pybind11>=2.2 in /opt/conda/lib/python3.10/site-packages (from fasttext->nemo_toolkit->nemo_toolkit[all]) (2.13.6)\r\n",
      "Requirement already satisfied: absl-py in /opt/conda/lib/python3.10/site-packages (from fiddle->nemo_toolkit->nemo_toolkit[all]) (1.4.0)\r\n",
      "Requirement already satisfied: graphviz in /opt/conda/lib/python3.10/site-packages (from fiddle->nemo_toolkit->nemo_toolkit[all]) (0.20.3)\r\n",
      "Collecting libcst (from fiddle->nemo_toolkit->nemo_toolkit[all])\r\n",
      "  Downloading libcst-1.5.0-cp310-cp310-manylinux_2_17_x86_64.manylinux2014_x86_64.whl.metadata (17 kB)\r\n",
      "Collecting aniso8601>=0.82 (from flask-restful->nemo_toolkit->nemo_toolkit[all])\r\n",
      "  Downloading aniso8601-9.0.1-py2.py3-none-any.whl.metadata (23 kB)\r\n",
      "Requirement already satisfied: Flask>=0.8 in /opt/conda/lib/python3.10/site-packages (from flask-restful->nemo_toolkit->nemo_toolkit[all]) (3.0.3)\r\n",
      "Requirement already satisfied: pytz in /opt/conda/lib/python3.10/site-packages (from flask-restful->nemo_toolkit->nemo_toolkit[all]) (2024.1)\r\n",
      "Requirement already satisfied: wcwidth in /opt/conda/lib/python3.10/site-packages (from ftfy->nemo_toolkit->nemo_toolkit[all]) (0.2.13)\r\n",
      "Collecting distance>=0.1.3 (from g2p-en->nemo_toolkit->nemo_toolkit[all])\r\n",
      "  Downloading Distance-0.1.3.tar.gz (180 kB)\r\n",
      "\u001b[2K     \u001b[90m━━━━━━━━━━━━━━━━━━━━━━━━━━━━━━━━━━━━━━\u001b[0m \u001b[32m180.3/180.3 kB\u001b[0m \u001b[31m13.0 MB/s\u001b[0m eta \u001b[36m0:00:00\u001b[0m\r\n",
      "\u001b[?25h  Preparing metadata (setup.py) ... \u001b[?25l-\b \bdone\r\n",
      "\u001b[?25hRequirement already satisfied: more-itertools>=8.5.0 in /opt/conda/lib/python3.10/site-packages (from inflect->nemo_toolkit->nemo_toolkit[all]) (10.3.0)\r\n",
      "Requirement already satisfied: typeguard>=4.0.1 in /opt/conda/lib/python3.10/site-packages (from inflect->nemo_toolkit->nemo_toolkit[all]) (4.3.0)\r\n",
      "Requirement already satisfied: beautifulsoup4 in /opt/conda/lib/python3.10/site-packages (from gdown->nemo_toolkit->nemo_toolkit[all]) (4.12.3)\r\n",
      "Requirement already satisfied: kornia-rs>=0.1.0 in /opt/conda/lib/python3.10/site-packages (from kornia->nemo_toolkit->nemo_toolkit[all]) (0.1.5)\r\n",
      "Requirement already satisfied: s3fs in /opt/conda/lib/python3.10/site-packages (from megatron-energon->nemo_toolkit->nemo_toolkit[all]) (2024.6.1)\r\n",
      "Collecting cdifflib (from nemo-text-processing->nemo_toolkit->nemo_toolkit[all])\r\n",
      "  Downloading cdifflib-1.2.6.tar.gz (11 kB)\r\n",
      "  Installing build dependencies ... \u001b[?25l-\b \b\\\b \b|\b \bdone\r\n",
      "\u001b[?25h  Getting requirements to build wheel ... \u001b[?25l-\b \bdone\r\n",
      "\u001b[?25h  Preparing metadata (pyproject.toml) ... \u001b[?25l-\b \bdone\r\n",
      "\u001b[?25hCollecting pynini==2.1.6.post1 (from nemo-text-processing->nemo_toolkit->nemo_toolkit[all])\r\n",
      "  Downloading pynini-2.1.6.post1-cp310-cp310-manylinux_2_28_x86_64.whl.metadata (4.8 kB)\r\n",
      "Requirement already satisfied: tzdata>=2022.7 in /opt/conda/lib/python3.10/site-packages (from pandas->nemo_toolkit->nemo_toolkit[all]) (2024.1)\r\n",
      "Requirement already satisfied: sortedcontainers>=2.0.4 in /opt/conda/lib/python3.10/site-packages (from pyannote.core->nemo_toolkit->nemo_toolkit[all]) (2.4.0)\r\n",
      "Collecting pyannote.database>=4.0.1 (from pyannote.metrics->nemo_toolkit->nemo_toolkit[all])\r\n",
      "  Downloading pyannote.database-5.1.0-py3-none-any.whl.metadata (1.2 kB)\r\n",
      "Requirement already satisfied: docopt>=0.6.2 in /opt/conda/lib/python3.10/site-packages (from pyannote.metrics->nemo_toolkit->nemo_toolkit[all]) (0.6.2)\r\n",
      "Requirement already satisfied: future>=0.16.0 in /opt/conda/lib/python3.10/site-packages (from pyloudnorm->nemo_toolkit->nemo_toolkit[all]) (1.0.0)\r\n",
      "Requirement already satisfied: iniconfig in /opt/conda/lib/python3.10/site-packages (from pytest->nemo_toolkit->nemo_toolkit[all]) (2.0.0)\r\n",
      "Requirement already satisfied: pluggy<2,>=1.5 in /opt/conda/lib/python3.10/site-packages (from pytest->nemo_toolkit->nemo_toolkit[all]) (1.5.0)\r\n",
      "Requirement already satisfied: exceptiongroup>=1.0.0rc8 in /opt/conda/lib/python3.10/site-packages (from pytest->nemo_toolkit->nemo_toolkit[all]) (1.2.0)\r\n",
      "Requirement already satisfied: ruamel.yaml.clib>=0.2.7 in /opt/conda/lib/python3.10/site-packages (from ruamel.yaml->nemo_toolkit->nemo_toolkit[all]) (0.2.8)\r\n",
      "Collecting portalocker (from sacrebleu->nemo_toolkit->nemo_toolkit[all])\r\n",
      "  Downloading portalocker-2.10.1-py3-none-any.whl.metadata (8.5 kB)\r\n",
      "Requirement already satisfied: colorama in /opt/conda/lib/python3.10/site-packages (from sacrebleu->nemo_toolkit->nemo_toolkit[all]) (0.4.6)\r\n",
      "Requirement already satisfied: lxml in /opt/conda/lib/python3.10/site-packages (from sacrebleu->nemo_toolkit->nemo_toolkit[all]) (5.3.0)\r\n",
      "Collecting sphinxcontrib-applehelp>=1.0.7 (from sphinx->nemo_toolkit->nemo_toolkit[all])\r\n",
      "  Downloading sphinxcontrib_applehelp-2.0.0-py3-none-any.whl.metadata (2.3 kB)\r\n",
      "Collecting sphinxcontrib-devhelp>=1.0.6 (from sphinx->nemo_toolkit->nemo_toolkit[all])\r\n",
      "  Downloading sphinxcontrib_devhelp-2.0.0-py3-none-any.whl.metadata (2.3 kB)\r\n",
      "Collecting sphinxcontrib-htmlhelp>=2.0.6 (from sphinx->nemo_toolkit->nemo_toolkit[all])\r\n",
      "  Downloading sphinxcontrib_htmlhelp-2.1.0-py3-none-any.whl.metadata (2.3 kB)\r\n",
      "Collecting sphinxcontrib-jsmath>=1.0.1 (from sphinx->nemo_toolkit->nemo_toolkit[all])\r\n",
      "  Downloading sphinxcontrib_jsmath-1.0.1-py2.py3-none-any.whl.metadata (1.4 kB)\r\n",
      "Collecting sphinxcontrib-qthelp>=1.0.6 (from sphinx->nemo_toolkit->nemo_toolkit[all])\r\n",
      "  Downloading sphinxcontrib_qthelp-2.0.0-py3-none-any.whl.metadata (2.3 kB)\r\n",
      "Collecting sphinxcontrib-serializinghtml>=1.1.9 (from sphinx->nemo_toolkit->nemo_toolkit[all])\r\n",
      "  Downloading sphinxcontrib_serializinghtml-2.0.0-py3-none-any.whl.metadata (2.4 kB)\r\n",
      "Requirement already satisfied: Pygments>=2.17 in /opt/conda/lib/python3.10/site-packages (from sphinx->nemo_toolkit->nemo_toolkit[all]) (2.18.0)\r\n",
      "Collecting docutils<0.22,>=0.20 (from sphinx->nemo_toolkit->nemo_toolkit[all])\r\n",
      "  Downloading docutils-0.21.2-py3-none-any.whl.metadata (2.8 kB)\r\n",
      "Requirement already satisfied: snowballstemmer>=2.2 in /opt/conda/lib/python3.10/site-packages (from sphinx->nemo_toolkit->nemo_toolkit[all]) (2.2.0)\r\n",
      "Requirement already satisfied: babel>=2.13 in /opt/conda/lib/python3.10/site-packages (from sphinx->nemo_toolkit->nemo_toolkit[all]) (2.15.0)\r\n",
      "Collecting alabaster>=0.7.14 (from sphinx->nemo_toolkit->nemo_toolkit[all])\r\n",
      "  Downloading alabaster-1.0.0-py3-none-any.whl.metadata (2.8 kB)\r\n",
      "Collecting imagesize>=1.3 (from sphinx->nemo_toolkit->nemo_toolkit[all])\r\n",
      "  Downloading imagesize-1.4.1-py2.py3-none-any.whl.metadata (1.5 kB)\r\n",
      "Collecting pybtex>=0.24 (from sphinxcontrib-bibtex->nemo_toolkit->nemo_toolkit[all])\r\n",
      "  Downloading pybtex-0.24.0-py2.py3-none-any.whl.metadata (2.0 kB)\r\n",
      "Collecting pybtex-docutils>=1.0.0 (from sphinxcontrib-bibtex->nemo_toolkit->nemo_toolkit[all])\r\n",
      "  Downloading pybtex_docutils-1.0.3-py3-none-any.whl.metadata (4.3 kB)\r\n",
      "Requirement already satisfied: grpcio>=1.48.2 in /opt/conda/lib/python3.10/site-packages (from tensorboard->nemo_toolkit->nemo_toolkit[all]) (1.62.2)\r\n",
      "Requirement already satisfied: markdown>=2.6.8 in /opt/conda/lib/python3.10/site-packages (from tensorboard->nemo_toolkit->nemo_toolkit[all]) (3.6)\r\n",
      "Requirement already satisfied: tensorboard-data-server<0.8.0,>=0.7.0 in /opt/conda/lib/python3.10/site-packages (from tensorboard->nemo_toolkit->nemo_toolkit[all]) (0.7.2)\r\n",
      "Requirement already satisfied: werkzeug>=1.0.1 in /opt/conda/lib/python3.10/site-packages (from tensorboard->nemo_toolkit->nemo_toolkit[all]) (3.0.4)\r\n",
      "Collecting plac (from texterrors->nemo_toolkit->nemo_toolkit[all])\r\n",
      "  Downloading plac-1.4.3-py2.py3-none-any.whl.metadata (5.9 kB)\r\n",
      "Collecting loguru (from texterrors->nemo_toolkit->nemo_toolkit[all])\r\n",
      "  Downloading loguru-0.7.2-py3-none-any.whl.metadata (23 kB)\r\n",
      "Requirement already satisfied: termcolor in /opt/conda/lib/python3.10/site-packages (from texterrors->nemo_toolkit->nemo_toolkit[all]) (2.4.0)\r\n",
      "Collecting Levenshtein (from texterrors->nemo_toolkit->nemo_toolkit[all])\r\n",
      "  Downloading levenshtein-0.26.1-cp310-cp310-manylinux_2_17_x86_64.manylinux2014_x86_64.whl.metadata (3.2 kB)\r\n",
      "Collecting trampoline>=0.1.2 (from torchsde->nemo_toolkit->nemo_toolkit[all])\r\n",
      "  Downloading trampoline-0.1.2-py3-none-any.whl.metadata (10 kB)\r\n",
      "Requirement already satisfied: docker-pycreds>=0.4.0 in /opt/conda/lib/python3.10/site-packages (from wandb->nemo_toolkit->nemo_toolkit[all]) (0.4.0)\r\n",
      "Requirement already satisfied: gitpython!=3.1.29,>=1.0.0 in /opt/conda/lib/python3.10/site-packages (from wandb->nemo_toolkit->nemo_toolkit[all]) (3.1.43)\r\n",
      "Requirement already satisfied: psutil>=5.0.0 in /opt/conda/lib/python3.10/site-packages (from wandb->nemo_toolkit->nemo_toolkit[all]) (5.9.3)\r\n",
      "Requirement already satisfied: sentry-sdk>=1.0.0 in /opt/conda/lib/python3.10/site-packages (from wandb->nemo_toolkit->nemo_toolkit[all]) (2.15.0)\r\n",
      "Requirement already satisfied: setproctitle in /opt/conda/lib/python3.10/site-packages (from wandb->nemo_toolkit->nemo_toolkit[all]) (1.3.3)\r\n",
      "Collecting asciitree (from zarr->nemo_toolkit->nemo_toolkit[all])\r\n",
      "  Downloading asciitree-0.3.3.tar.gz (4.0 kB)\r\n",
      "  Preparing metadata (setup.py) ... \u001b[?25l-\b \bdone\r\n",
      "\u001b[?25hCollecting numcodecs>=0.10.0 (from zarr->nemo_toolkit->nemo_toolkit[all])\r\n",
      "  Downloading numcodecs-0.13.1-cp310-cp310-manylinux_2_17_x86_64.manylinux2014_x86_64.whl.metadata (2.9 kB)\r\n",
      "Requirement already satisfied: fasteners in /opt/conda/lib/python3.10/site-packages (from zarr->nemo_toolkit->nemo_toolkit[all]) (0.19)\r\n",
      "Requirement already satisfied: urllib3<1.27,>=1.25.4 in /opt/conda/lib/python3.10/site-packages (from botocore<1.30.0,>=1.29.100->boto3->nemo_toolkit->nemo_toolkit[all]) (1.26.18)\r\n",
      "Requirement already satisfied: pycparser in /opt/conda/lib/python3.10/site-packages (from cffi>=1.0->soundfile->nemo_toolkit->nemo_toolkit[all]) (2.22)\r\n",
      "Requirement already satisfied: toolz>=0.8.0 in /opt/conda/lib/python3.10/site-packages (from cytoolz>=0.10.1->lhotse>=1.26.0->nemo_toolkit->nemo_toolkit[all]) (0.12.1)\r\n",
      "Requirement already satisfied: itsdangerous>=2.1.2 in /opt/conda/lib/python3.10/site-packages (from Flask>=0.8->flask-restful->nemo_toolkit->nemo_toolkit[all]) (2.2.0)\r\n",
      "Requirement already satisfied: blinker>=1.6.2 in /opt/conda/lib/python3.10/site-packages (from Flask>=0.8->flask-restful->nemo_toolkit->nemo_toolkit[all]) (1.8.2)\r\n",
      "Requirement already satisfied: aiosignal>=1.1.2 in /opt/conda/lib/python3.10/site-packages (from aiohttp->datasets->nemo_toolkit->nemo_toolkit[all]) (1.3.1)\r\n",
      "Requirement already satisfied: attrs>=17.3.0 in /opt/conda/lib/python3.10/site-packages (from aiohttp->datasets->nemo_toolkit->nemo_toolkit[all]) (23.2.0)\r\n",
      "Requirement already satisfied: frozenlist>=1.1.1 in /opt/conda/lib/python3.10/site-packages (from aiohttp->datasets->nemo_toolkit->nemo_toolkit[all]) (1.4.1)\r\n",
      "Requirement already satisfied: multidict<7.0,>=4.5 in /opt/conda/lib/python3.10/site-packages (from aiohttp->datasets->nemo_toolkit->nemo_toolkit[all]) (6.0.5)\r\n",
      "Requirement already satisfied: yarl<2.0,>=1.0 in /opt/conda/lib/python3.10/site-packages (from aiohttp->datasets->nemo_toolkit->nemo_toolkit[all]) (1.9.4)\r\n",
      "Requirement already satisfied: async-timeout<5.0,>=4.0 in /opt/conda/lib/python3.10/site-packages (from aiohttp->datasets->nemo_toolkit->nemo_toolkit[all]) (4.0.3)\r\n",
      "Requirement already satisfied: gitdb<5,>=4.0.1 in /opt/conda/lib/python3.10/site-packages (from gitpython!=3.1.29,>=1.0.0->wandb->nemo_toolkit->nemo_toolkit[all]) (4.0.11)\r\n",
      "Requirement already satisfied: MarkupSafe>=2.0 in /opt/conda/lib/python3.10/site-packages (from jinja2->torch->nemo_toolkit->nemo_toolkit[all]) (2.1.5)\r\n",
      "Requirement already satisfied: typer>=0.12.1 in /opt/conda/lib/python3.10/site-packages (from pyannote.database>=4.0.1->pyannote.metrics->nemo_toolkit->nemo_toolkit[all]) (0.12.3)\r\n",
      "Collecting latexcodec>=1.0.4 (from pybtex>=0.24->sphinxcontrib-bibtex->nemo_toolkit->nemo_toolkit[all])\r\n",
      "  Downloading latexcodec-3.0.0-py3-none-any.whl.metadata (4.9 kB)\r\n",
      "Requirement already satisfied: charset-normalizer<4,>=2 in /opt/conda/lib/python3.10/site-packages (from requests>=2.26.0->tiktoken==0.7.0->nemo_toolkit->nemo_toolkit[all]) (3.3.2)\r\n",
      "Requirement already satisfied: idna<4,>=2.5 in /opt/conda/lib/python3.10/site-packages (from requests>=2.26.0->tiktoken==0.7.0->nemo_toolkit->nemo_toolkit[all]) (3.7)\r\n",
      "Requirement already satisfied: certifi>=2017.4.17 in /opt/conda/lib/python3.10/site-packages (from requests>=2.26.0->tiktoken==0.7.0->nemo_toolkit->nemo_toolkit[all]) (2024.8.30)\r\n",
      "Requirement already satisfied: markdown-it-py>=2.2.0 in /opt/conda/lib/python3.10/site-packages (from rich>=12->nerfacc>=0.5.3->nemo_toolkit->nemo_toolkit[all]) (3.0.0)\r\n",
      "Requirement already satisfied: mpmath<1.4,>=1.1.0 in /opt/conda/lib/python3.10/site-packages (from sympy->torch->nemo_toolkit->nemo_toolkit[all]) (1.3.0)\r\n",
      "Requirement already satisfied: soupsieve>1.2 in /opt/conda/lib/python3.10/site-packages (from beautifulsoup4->gdown->nemo_toolkit->nemo_toolkit[all]) (2.5)\r\n",
      "Requirement already satisfied: zipp>=0.5 in /opt/conda/lib/python3.10/site-packages (from importlib-metadata->diffusers>=0.19.3->nemo_toolkit->nemo_toolkit[all]) (3.19.2)\r\n",
      "Requirement already satisfied: jedi>=0.16 in /opt/conda/lib/python3.10/site-packages (from ipython->mediapy==1.1.6->nemo_toolkit->nemo_toolkit[all]) (0.19.1)\r\n",
      "Requirement already satisfied: matplotlib-inline in /opt/conda/lib/python3.10/site-packages (from ipython->mediapy==1.1.6->nemo_toolkit->nemo_toolkit[all]) (0.1.7)\r\n",
      "Requirement already satisfied: prompt-toolkit<3.1.0,>=3.0.41 in /opt/conda/lib/python3.10/site-packages (from ipython->mediapy==1.1.6->nemo_toolkit->nemo_toolkit[all]) (3.0.47)\r\n",
      "Requirement already satisfied: stack-data in /opt/conda/lib/python3.10/site-packages (from ipython->mediapy==1.1.6->nemo_toolkit->nemo_toolkit[all]) (0.6.2)\r\n",
      "Requirement already satisfied: traitlets>=5 in /opt/conda/lib/python3.10/site-packages (from ipython->mediapy==1.1.6->nemo_toolkit->nemo_toolkit[all]) (5.14.3)\r\n",
      "Requirement already satisfied: pexpect>4.3 in /opt/conda/lib/python3.10/site-packages (from ipython->mediapy==1.1.6->nemo_toolkit->nemo_toolkit[all]) (4.9.0)\r\n",
      "Requirement already satisfied: PySocks!=1.5.7,>=1.5.6 in /opt/conda/lib/python3.10/site-packages (from requests[socks]->gdown->nemo_toolkit->nemo_toolkit[all]) (1.7.1)\r\n",
      "Requirement already satisfied: aiobotocore<3.0.0,>=2.5.4 in /opt/conda/lib/python3.10/site-packages (from s3fs->megatron-energon->nemo_toolkit->nemo_toolkit[all]) (2.15.1)\r\n",
      "INFO: pip is looking at multiple versions of aiobotocore to determine which version is compatible with other requirements. This could take a while.\r\n",
      "Collecting aiobotocore<3.0.0,>=2.5.4 (from s3fs->megatron-energon->nemo_toolkit->nemo_toolkit[all])\r\n",
      "  Downloading aiobotocore-2.15.2-py3-none-any.whl.metadata (23 kB)\r\n",
      "  Downloading aiobotocore-2.15.0-py3-none-any.whl.metadata (23 kB)\r\n",
      "  Downloading aiobotocore-2.14.0-py3-none-any.whl.metadata (23 kB)\r\n",
      "  Downloading aiobotocore-2.13.3-py3-none-any.whl.metadata (22 kB)\r\n",
      "  Downloading aiobotocore-2.13.2-py3-none-any.whl.metadata (22 kB)\r\n",
      "  Downloading aiobotocore-2.13.1-py3-none-any.whl.metadata (22 kB)\r\n",
      "  Downloading aiobotocore-2.13.0-py3-none-any.whl.metadata (21 kB)\r\n",
      "INFO: pip is still looking at multiple versions of aiobotocore to determine which version is compatible with other requirements. This could take a while.\r\n",
      "  Downloading aiobotocore-2.12.4-py3-none-any.whl.metadata (21 kB)\r\n",
      "  Downloading aiobotocore-2.12.3-py3-none-any.whl.metadata (21 kB)\r\n",
      "  Downloading aiobotocore-2.12.2-py3-none-any.whl.metadata (21 kB)\r\n",
      "  Downloading aiobotocore-2.12.1-py3-none-any.whl.metadata (21 kB)\r\n",
      "  Downloading aiobotocore-2.12.0-py3-none-any.whl.metadata (21 kB)\r\n",
      "INFO: This is taking longer than usual. You might need to provide the dependency resolver with stricter constraints to reduce runtime. See https://pip.pypa.io/warnings/backtracking for guidance. If you want to abort this run, press Ctrl + C.\r\n",
      "  Downloading aiobotocore-2.11.2-py3-none-any.whl.metadata (21 kB)\r\n",
      "  Downloading aiobotocore-2.11.1-py3-none-any.whl.metadata (21 kB)\r\n",
      "  Downloading aiobotocore-2.11.0-py3-none-any.whl.metadata (21 kB)\r\n",
      "  Downloading aiobotocore-2.10.0-py3-none-any.whl.metadata (20 kB)\r\n",
      "  Downloading aiobotocore-2.9.1-py3-none-any.whl.metadata (20 kB)\r\n",
      "  Downloading aiobotocore-2.9.0-py3-none-any.whl.metadata (20 kB)\r\n",
      "  Downloading aiobotocore-2.8.0-py3-none-any.whl.metadata (20 kB)\r\n",
      "  Downloading aiobotocore-2.7.0-py3-none-any.whl.metadata (20 kB)\r\n",
      "  Downloading aiobotocore-2.6.0-py3-none-any.whl.metadata (19 kB)\r\n",
      "  Downloading aiobotocore-2.5.4-py3-none-any.whl.metadata (19 kB)\r\n",
      "Collecting s3fs (from megatron-energon->nemo_toolkit->nemo_toolkit[all])\r\n",
      "  Downloading s3fs-2024.10.0-py3-none-any.whl.metadata (1.7 kB)\r\n",
      "INFO: pip is looking at multiple versions of s3fs to determine which version is compatible with other requirements. This could take a while.\r\n",
      "  Downloading s3fs-2024.9.0-py3-none-any.whl.metadata (1.6 kB)\r\n",
      "  Downloading s3fs-2024.6.1-py3-none-any.whl.metadata (1.6 kB)\r\n",
      "  Downloading s3fs-2024.6.0-py3-none-any.whl.metadata (1.6 kB)\r\n",
      "  Downloading s3fs-2024.5.0-py3-none-any.whl.metadata (1.6 kB)\r\n",
      "  Downloading s3fs-2024.3.1-py3-none-any.whl.metadata (1.6 kB)\r\n",
      "  Downloading s3fs-2024.3.0-py3-none-any.whl.metadata (1.6 kB)\r\n",
      "INFO: pip is still looking at multiple versions of s3fs to determine which version is compatible with other requirements. This could take a while.\r\n",
      "  Downloading s3fs-2024.2.0-py3-none-any.whl.metadata (1.6 kB)\r\n",
      "  Downloading s3fs-2023.12.2-py3-none-any.whl.metadata (1.6 kB)\r\n",
      "  Downloading s3fs-2023.12.1-py3-none-any.whl.metadata (1.6 kB)\r\n",
      "  Downloading s3fs-2023.10.0-py3-none-any.whl.metadata (1.6 kB)\r\n",
      "  Downloading s3fs-2023.9.2-py3-none-any.whl.metadata (1.6 kB)\r\n",
      "INFO: This is taking longer than usual. You might need to provide the dependency resolver with stricter constraints to reduce runtime. See https://pip.pypa.io/warnings/backtracking for guidance. If you want to abort this run, press Ctrl + C.\r\n",
      "  Downloading s3fs-2023.9.1-py3-none-any.whl.metadata (1.6 kB)\r\n",
      "  Downloading s3fs-2023.9.0-py3-none-any.whl.metadata (1.6 kB)\r\n",
      "  Downloading s3fs-2023.6.0-py3-none-any.whl.metadata (1.6 kB)\r\n",
      "  Downloading s3fs-2023.5.0-py3-none-any.whl.metadata (1.6 kB)\r\n",
      "  Downloading s3fs-2023.4.0-py3-none-any.whl.metadata (1.6 kB)\r\n",
      "  Downloading s3fs-2023.3.0-py3-none-any.whl.metadata (1.6 kB)\r\n",
      "Collecting aiobotocore~=2.4.2 (from s3fs->megatron-energon->nemo_toolkit->nemo_toolkit[all])\r\n",
      "  Downloading aiobotocore-2.4.2-py3-none-any.whl.metadata (19 kB)\r\n",
      "Collecting s3fs (from megatron-energon->nemo_toolkit->nemo_toolkit[all])\r\n",
      "  Downloading s3fs-2023.1.0-py3-none-any.whl.metadata (1.5 kB)\r\n",
      "  Downloading s3fs-2022.11.0-py3-none-any.whl.metadata (1.5 kB)\r\n",
      "  Downloading s3fs-2022.10.0-py3-none-any.whl.metadata (1.5 kB)\r\n",
      "  Downloading s3fs-2022.8.2-py3-none-any.whl.metadata (1.6 kB)\r\n",
      "  Downloading s3fs-2022.8.1-py3-none-any.whl.metadata (1.6 kB)\r\n",
      "  Downloading s3fs-2022.8.0-py3-none-any.whl.metadata (1.6 kB)\r\n",
      "  Downloading s3fs-2022.7.1-py3-none-any.whl.metadata (1.5 kB)\r\n",
      "Collecting aiobotocore~=2.3.4 (from s3fs->megatron-energon->nemo_toolkit->nemo_toolkit[all])\r\n",
      "  Downloading aiobotocore-2.3.4-py3-none-any.whl.metadata (19 kB)\r\n",
      "Collecting s3fs (from megatron-energon->nemo_toolkit->nemo_toolkit[all])\r\n",
      "  Downloading s3fs-2022.7.0-py3-none-any.whl.metadata (1.5 kB)\r\n",
      "  Downloading s3fs-2022.5.0-py3-none-any.whl.metadata (1.5 kB)\r\n",
      "  Downloading s3fs-2022.3.0-py3-none-any.whl.metadata (1.5 kB)\r\n",
      "Collecting aiobotocore~=2.2.0 (from s3fs->megatron-energon->nemo_toolkit->nemo_toolkit[all])\r\n",
      "  Downloading aiobotocore-2.2.0.tar.gz (59 kB)\r\n",
      "\u001b[2K     \u001b[90m━━━━━━━━━━━━━━━━━━━━━━━━━━━━━━━━━━━━━━━━\u001b[0m \u001b[32m59.7/59.7 kB\u001b[0m \u001b[31m3.3 MB/s\u001b[0m eta \u001b[36m0:00:00\u001b[0m\r\n",
      "\u001b[?25h  Preparing metadata (setup.py) ... \u001b[?25l-\b \bdone\r\n",
      "\u001b[?25hCollecting s3fs (from megatron-energon->nemo_toolkit->nemo_toolkit[all])\r\n",
      "  Downloading s3fs-2022.2.0-py3-none-any.whl.metadata (1.5 kB)\r\n",
      "Collecting aiobotocore~=2.1.0 (from s3fs->megatron-energon->nemo_toolkit->nemo_toolkit[all])\r\n",
      "  Downloading aiobotocore-2.1.2-py3-none-any.whl.metadata (18 kB)\r\n",
      "Collecting s3fs (from megatron-energon->nemo_toolkit->nemo_toolkit[all])\r\n",
      "  Downloading s3fs-2022.1.0-py3-none-any.whl.metadata (1.6 kB)\r\n",
      "  Downloading s3fs-2021.11.1-py3-none-any.whl.metadata (1.6 kB)\r\n",
      "Collecting aiobotocore~=2.0.1 (from s3fs->megatron-energon->nemo_toolkit->nemo_toolkit[all])\r\n",
      "  Downloading aiobotocore-2.0.1.tar.gz (54 kB)\r\n",
      "\u001b[2K     \u001b[90m━━━━━━━━━━━━━━━━━━━━━━━━━━━━━━━━━━━━━━━━\u001b[0m \u001b[32m54.5/54.5 kB\u001b[0m \u001b[31m3.0 MB/s\u001b[0m eta \u001b[36m0:00:00\u001b[0m\r\n",
      "\u001b[?25h  Preparing metadata (setup.py) ... \u001b[?25l-\b \bdone\r\n",
      "\u001b[?25hCollecting s3fs (from megatron-energon->nemo_toolkit->nemo_toolkit[all])\r\n",
      "  Downloading s3fs-2021.11.0-py3-none-any.whl.metadata (1.6 kB)\r\n",
      "Collecting aiobotocore~=1.4.1 (from s3fs->megatron-energon->nemo_toolkit->nemo_toolkit[all])\r\n",
      "  Downloading aiobotocore-1.4.2.tar.gz (52 kB)\r\n",
      "\u001b[2K     \u001b[90m━━━━━━━━━━━━━━━━━━━━━━━━━━━━━━━━━━━━━━━━\u001b[0m \u001b[32m52.5/52.5 kB\u001b[0m \u001b[31m2.8 MB/s\u001b[0m eta \u001b[36m0:00:00\u001b[0m\r\n",
      "\u001b[?25h  Preparing metadata (setup.py) ... \u001b[?25l-\b \bdone\r\n",
      "\u001b[?25hCollecting s3fs (from megatron-energon->nemo_toolkit->nemo_toolkit[all])\r\n",
      "  Downloading s3fs-2021.10.1-py3-none-any.whl.metadata (1.5 kB)\r\n",
      "  Downloading s3fs-2021.10.0-py3-none-any.whl.metadata (1.5 kB)\r\n",
      "  Downloading s3fs-2021.9.0-py3-none-any.whl.metadata (1.5 kB)\r\n",
      "  Downloading s3fs-2021.8.1-py3-none-any.whl.metadata (1.5 kB)\r\n",
      "  Downloading s3fs-2021.8.0-py3-none-any.whl.metadata (1.5 kB)\r\n",
      "  Downloading s3fs-2021.7.0-py3-none-any.whl.metadata (1.5 kB)\r\n",
      "  Downloading s3fs-2021.6.1-py3-none-any.whl.metadata (1.5 kB)\r\n",
      "  Downloading s3fs-2021.6.0-py3-none-any.whl.metadata (1.5 kB)\r\n",
      "  Downloading s3fs-2021.5.0-py3-none-any.whl.metadata (1.5 kB)\r\n",
      "  Downloading s3fs-2021.4.0-py3-none-any.whl.metadata (1.5 kB)\r\n",
      "  Downloading s3fs-0.6.0-py3-none-any.whl.metadata (1.4 kB)\r\n",
      "Collecting aiobotocore>=1.0.1 (from s3fs->megatron-energon->nemo_toolkit->nemo_toolkit[all])\r\n",
      "  Downloading aiobotocore-2.5.3-py3-none-any.whl.metadata (19 kB)\r\n",
      "  Downloading aiobotocore-2.5.2-py3-none-any.whl.metadata (19 kB)\r\n",
      "Collecting botocore<1.30.0,>=1.29.100 (from boto3->nemo_toolkit->nemo_toolkit[all])\r\n",
      "  Downloading botocore-1.29.161-py3-none-any.whl.metadata (5.9 kB)\r\n",
      "Requirement already satisfied: aioitertools<1.0.0,>=0.5.1 in /opt/conda/lib/python3.10/site-packages (from aiobotocore>=1.0.1->s3fs->megatron-energon->nemo_toolkit->nemo_toolkit[all]) (0.12.0)\r\n",
      "Requirement already satisfied: smmap<6,>=3.0.1 in /opt/conda/lib/python3.10/site-packages (from gitdb<5,>=4.0.1->gitpython!=3.1.29,>=1.0.0->wandb->nemo_toolkit->nemo_toolkit[all]) (5.0.1)\r\n",
      "Requirement already satisfied: parso<0.9.0,>=0.8.3 in /opt/conda/lib/python3.10/site-packages (from jedi>=0.16->ipython->mediapy==1.1.6->nemo_toolkit->nemo_toolkit[all]) (0.8.4)\r\n",
      "Requirement already satisfied: mdurl~=0.1 in /opt/conda/lib/python3.10/site-packages (from markdown-it-py>=2.2.0->rich>=12->nerfacc>=0.5.3->nemo_toolkit->nemo_toolkit[all]) (0.1.2)\r\n",
      "Requirement already satisfied: ptyprocess>=0.5 in /opt/conda/lib/python3.10/site-packages (from pexpect>4.3->ipython->mediapy==1.1.6->nemo_toolkit->nemo_toolkit[all]) (0.7.0)\r\n",
      "Requirement already satisfied: shellingham>=1.3.0 in /opt/conda/lib/python3.10/site-packages (from typer>=0.12.1->pyannote.database>=4.0.1->pyannote.metrics->nemo_toolkit->nemo_toolkit[all]) (1.5.4)\r\n",
      "Requirement already satisfied: executing>=1.2.0 in /opt/conda/lib/python3.10/site-packages (from stack-data->ipython->mediapy==1.1.6->nemo_toolkit->nemo_toolkit[all]) (2.0.1)\r\n",
      "Requirement already satisfied: asttokens>=2.1.0 in /opt/conda/lib/python3.10/site-packages (from stack-data->ipython->mediapy==1.1.6->nemo_toolkit->nemo_toolkit[all]) (2.4.1)\r\n",
      "Requirement already satisfied: pure-eval in /opt/conda/lib/python3.10/site-packages (from stack-data->ipython->mediapy==1.1.6->nemo_toolkit->nemo_toolkit[all]) (0.2.2)\r\n",
      "Downloading mediapy-1.1.6-py3-none-any.whl (24 kB)\r\n",
      "Downloading open_clip_torch-2.24.0-py3-none-any.whl (1.5 MB)\r\n",
      "\u001b[2K   \u001b[90m━━━━━━━━━━━━━━━━━━━━━━━━━━━━━━━━━━━━━━━━\u001b[0m \u001b[32m1.5/1.5 MB\u001b[0m \u001b[31m41.5 MB/s\u001b[0m eta \u001b[36m0:00:00\u001b[0m\r\n",
      "\u001b[?25hDownloading tiktoken-0.7.0-cp310-cp310-manylinux_2_17_x86_64.manylinux2014_x86_64.whl (1.1 MB)\r\n",
      "\u001b[2K   \u001b[90m━━━━━━━━━━━━━━━━━━━━━━━━━━━━━━━━━━━━━━━━\u001b[0m \u001b[32m1.1/1.1 MB\u001b[0m \u001b[31m44.5 MB/s\u001b[0m eta \u001b[36m0:00:00\u001b[0m\r\n",
      "\u001b[?25hDownloading black-24.10.0-cp310-cp310-manylinux_2_17_x86_64.manylinux2014_x86_64.manylinux_2_28_x86_64.whl (1.8 MB)\r\n",
      "\u001b[2K   \u001b[90m━━━━━━━━━━━━━━━━━━━━━━━━━━━━━━━━━━━━━━━━\u001b[0m \u001b[32m1.8/1.8 MB\u001b[0m \u001b[31m57.2 MB/s\u001b[0m eta \u001b[36m0:00:00\u001b[0m\r\n",
      "\u001b[?25hDownloading diffusers-0.31.0-py3-none-any.whl (2.9 MB)\r\n",
      "\u001b[2K   \u001b[90m━━━━━━━━━━━━━━━━━━━━━━━━━━━━━━━━━━━━━━━━\u001b[0m \u001b[32m2.9/2.9 MB\u001b[0m \u001b[31m53.3 MB/s\u001b[0m eta \u001b[36m0:00:00\u001b[0m\r\n",
      "\u001b[?25hDownloading hydra_core-1.3.2-py3-none-any.whl (154 kB)\r\n",
      "\u001b[2K   \u001b[90m━━━━━━━━━━━━━━━━━━━━━━━━━━━━━━━━━━━━━━━━\u001b[0m \u001b[32m154.5/154.5 kB\u001b[0m \u001b[31m9.2 MB/s\u001b[0m eta \u001b[36m0:00:00\u001b[0m\r\n",
      "\u001b[?25hDownloading jiwer-3.0.5-py3-none-any.whl (21 kB)\r\n",
      "Downloading lhotse-1.27.0-py3-none-any.whl (806 kB)\r\n",
      "\u001b[2K   \u001b[90m━━━━━━━━━━━━━━━━━━━━━━━━━━━━━━━━━━━━━━━━\u001b[0m \u001b[32m806.9/806.9 kB\u001b[0m \u001b[31m35.1 MB/s\u001b[0m eta \u001b[36m0:00:00\u001b[0m\r\n",
      "\u001b[?25hDownloading nerfacc-0.5.3-py3-none-any.whl (54 kB)\r\n",
      "\u001b[2K   \u001b[90m━━━━━━━━━━━━━━━━━━━━━━━━━━━━━━━━━━━━━━━━\u001b[0m \u001b[32m54.6/54.6 kB\u001b[0m \u001b[31m3.0 MB/s\u001b[0m eta \u001b[36m0:00:00\u001b[0m\r\n",
      "\u001b[?25hDownloading nltk-3.9.1-py3-none-any.whl (1.5 MB)\r\n",
      "\u001b[2K   \u001b[90m━━━━━━━━━━━━━━━━━━━━━━━━━━━━━━━━━━━━━━━━\u001b[0m \u001b[32m1.5/1.5 MB\u001b[0m \u001b[31m50.3 MB/s\u001b[0m eta \u001b[36m0:00:00\u001b[0m\r\n",
      "\u001b[?25hDownloading omegaconf-2.3.0-py3-none-any.whl (79 kB)\r\n",
      "\u001b[2K   \u001b[90m━━━━━━━━━━━━━━━━━━━━━━━━━━━━━━━━━━━━━━━━\u001b[0m \u001b[32m79.5/79.5 kB\u001b[0m \u001b[31m4.6 MB/s\u001b[0m eta \u001b[36m0:00:00\u001b[0m\r\n",
      "\u001b[?25hDownloading OpenCC-1.1.6-cp310-cp310-manylinux1_x86_64.whl (778 kB)\r\n",
      "\u001b[2K   \u001b[90m━━━━━━━━━━━━━━━━━━━━━━━━━━━━━━━━━━━━━━━━\u001b[0m \u001b[32m778.3/778.3 kB\u001b[0m \u001b[31m36.3 MB/s\u001b[0m eta \u001b[36m0:00:00\u001b[0m\r\n",
      "\u001b[?25hDownloading packaging-24.1-py3-none-any.whl (53 kB)\r\n",
      "\u001b[2K   \u001b[90m━━━━━━━━━━━━━━━━━━━━━━━━━━━━━━━━━━━━━━━━\u001b[0m \u001b[32m54.0/54.0 kB\u001b[0m \u001b[31m3.2 MB/s\u001b[0m eta \u001b[36m0:00:00\u001b[0m\r\n",
      "\u001b[?25hDownloading rapidfuzz-3.10.1-cp310-cp310-manylinux_2_17_x86_64.manylinux2014_x86_64.whl (3.1 MB)\r\n",
      "\u001b[2K   \u001b[90m━━━━━━━━━━━━━━━━━━━━━━━━━━━━━━━━━━━━━━━━\u001b[0m \u001b[32m3.1/3.1 MB\u001b[0m \u001b[31m64.7 MB/s\u001b[0m eta \u001b[36m0:00:00\u001b[0m\r\n",
      "\u001b[?25hDownloading sacremoses-0.1.1-py3-none-any.whl (897 kB)\r\n",
      "\u001b[2K   \u001b[90m━━━━━━━━━━━━━━━━━━━━━━━━━━━━━━━━━━━━━━━━\u001b[0m \u001b[32m897.5/897.5 kB\u001b[0m \u001b[31m37.2 MB/s\u001b[0m eta \u001b[36m0:00:00\u001b[0m\r\n",
      "\u001b[?25hDownloading tensorstore-0.1.45-cp310-cp310-manylinux_2_17_x86_64.manylinux2014_x86_64.whl (13.5 MB)\r\n",
      "\u001b[2K   \u001b[90m━━━━━━━━━━━━━━━━━━━━━━━━━━━━━━━━━━━━━━━━\u001b[0m \u001b[32m13.5/13.5 MB\u001b[0m \u001b[31m54.3 MB/s\u001b[0m eta \u001b[36m0:00:00\u001b[0m\r\n",
      "\u001b[?25hDownloading textdistance-4.6.3-py3-none-any.whl (31 kB)\r\n",
      "Downloading webdataset-0.2.100-py3-none-any.whl (74 kB)\r\n",
      "\u001b[2K   \u001b[90m━━━━━━━━━━━━━━━━━━━━━━━━━━━━━━━━━━━━━━━━\u001b[0m \u001b[32m74.8/74.8 kB\u001b[0m \u001b[31m4.4 MB/s\u001b[0m eta \u001b[36m0:00:00\u001b[0m\r\n",
      "\u001b[?25hDownloading accelerated_scan-0.2.0-py3-none-any.whl (11 kB)\r\n",
      "Downloading addict-2.4.0-py3-none-any.whl (3.8 kB)\r\n",
      "Downloading attrdict-2.0.1-py2.py3-none-any.whl (9.9 kB)\r\n",
      "Downloading braceexpand-0.1.7-py2.py3-none-any.whl (5.9 kB)\r\n",
      "Downloading decord-0.6.0-py3-none-manylinux2010_x86_64.whl (13.6 MB)\r\n",
      "\u001b[2K   \u001b[90m━━━━━━━━━━━━━━━━━━━━━━━━━━━━━━━━━━━━━━━━\u001b[0m \u001b[32m13.6/13.6 MB\u001b[0m \u001b[31m73.2 MB/s\u001b[0m eta \u001b[36m0:00:00\u001b[0m\r\n",
      "\u001b[?25hDownloading editdistance-0.8.1-cp310-cp310-manylinux_2_17_x86_64.manylinux2014_x86_64.whl (401 kB)\r\n",
      "\u001b[2K   \u001b[90m━━━━━━━━━━━━━━━━━━━━━━━━━━━━━━━━━━━━━━━━\u001b[0m \u001b[32m401.8/401.8 kB\u001b[0m \u001b[31m22.7 MB/s\u001b[0m eta \u001b[36m0:00:00\u001b[0m\r\n",
      "\u001b[?25hDownloading einops-0.8.0-py3-none-any.whl (43 kB)\r\n",
      "\u001b[2K   \u001b[90m━━━━━━━━━━━━━━━━━━━━━━━━━━━━━━━━━━━━━━━━\u001b[0m \u001b[32m43.2/43.2 kB\u001b[0m \u001b[31m2.0 MB/s\u001b[0m eta \u001b[36m0:00:00\u001b[0m\r\n",
      "\u001b[?25hDownloading einops_exts-0.0.4-py3-none-any.whl (3.9 kB)\r\n",
      "Downloading faiss_cpu-1.9.0-cp310-cp310-manylinux_2_17_x86_64.manylinux2014_x86_64.whl (27.5 MB)\r\n",
      "\u001b[2K   \u001b[90m━━━━━━━━━━━━━━━━━━━━━━━━━━━━━━━━━━━━━━━━\u001b[0m \u001b[32m27.5/27.5 MB\u001b[0m \u001b[31m58.9 MB/s\u001b[0m eta \u001b[36m0:00:00\u001b[0m\r\n",
      "\u001b[?25hDownloading fiddle-0.3.0-py3-none-any.whl (419 kB)\r\n",
      "\u001b[2K   \u001b[90m━━━━━━━━━━━━━━━━━━━━━━━━━━━━━━━━━━━━━━━━\u001b[0m \u001b[32m419.8/419.8 kB\u001b[0m \u001b[31m23.2 MB/s\u001b[0m eta \u001b[36m0:00:00\u001b[0m\r\n",
      "\u001b[?25hDownloading Flask_RESTful-0.3.10-py2.py3-none-any.whl (26 kB)\r\n",
      "Downloading ftfy-6.3.1-py3-none-any.whl (44 kB)\r\n",
      "\u001b[2K   \u001b[90m━━━━━━━━━━━━━━━━━━━━━━━━━━━━━━━━━━━━━━━━\u001b[0m \u001b[32m44.8/44.8 kB\u001b[0m \u001b[31m2.6 MB/s\u001b[0m eta \u001b[36m0:00:00\u001b[0m\r\n",
      "\u001b[?25hDownloading g2p_en-2.1.0-py3-none-any.whl (3.1 MB)\r\n",
      "\u001b[2K   \u001b[90m━━━━━━━━━━━━━━━━━━━━━━━━━━━━━━━━━━━━━━━━\u001b[0m \u001b[32m3.1/3.1 MB\u001b[0m \u001b[31m69.0 MB/s\u001b[0m eta \u001b[36m0:00:00\u001b[0m\r\n",
      "\u001b[?25hDownloading inflect-7.4.0-py3-none-any.whl (34 kB)\r\n",
      "Downloading gdown-5.2.0-py3-none-any.whl (18 kB)\r\n",
      "Downloading ijson-3.3.0-cp310-cp310-manylinux_2_17_x86_64.manylinux2014_x86_64.whl (114 kB)\r\n",
      "\u001b[2K   \u001b[90m━━━━━━━━━━━━━━━━━━━━━━━━━━━━━━━━━━━━━━━━\u001b[0m \u001b[32m114.5/114.5 kB\u001b[0m \u001b[31m6.5 MB/s\u001b[0m eta \u001b[36m0:00:00\u001b[0m\r\n",
      "\u001b[?25hDownloading kaldiio-2.18.0-py3-none-any.whl (28 kB)\r\n",
      "Downloading markdown2-2.5.1-py2.py3-none-any.whl (48 kB)\r\n",
      "\u001b[2K   \u001b[90m━━━━━━━━━━━━━━━━━━━━━━━━━━━━━━━━━━━━━━━━\u001b[0m \u001b[32m48.4/48.4 kB\u001b[0m \u001b[31m2.4 MB/s\u001b[0m eta \u001b[36m0:00:00\u001b[0m\r\n",
      "\u001b[?25hDownloading megatron_energon-3.0.1-py3-none-any.whl (146 kB)\r\n",
      "\u001b[2K   \u001b[90m━━━━━━━━━━━━━━━━━━━━━━━━━━━━━━━━━━━━━━━━\u001b[0m \u001b[32m146.5/146.5 kB\u001b[0m \u001b[31m8.5 MB/s\u001b[0m eta \u001b[36m0:00:00\u001b[0m\r\n",
      "\u001b[?25hDownloading nemo_text_processing-1.1.0-py3-none-any.whl (2.7 MB)\r\n",
      "\u001b[2K   \u001b[90m━━━━━━━━━━━━━━━━━━━━━━━━━━━━━━━━━━━━━━━━\u001b[0m \u001b[32m2.7/2.7 MB\u001b[0m \u001b[31m20.9 MB/s\u001b[0m eta \u001b[36m0:00:00\u001b[0m\r\n",
      "\u001b[?25hDownloading pynini-2.1.6.post1-cp310-cp310-manylinux_2_28_x86_64.whl (154.5 MB)\r\n",
      "\u001b[2K   \u001b[90m━━━━━━━━━━━━━━━━━━━━━━━━━━━━━━━━━━━━━━━━\u001b[0m \u001b[32m154.5/154.5 MB\u001b[0m \u001b[31m10.4 MB/s\u001b[0m eta \u001b[36m0:00:00\u001b[0m\r\n",
      "\u001b[?25hDownloading pangu-4.0.6.1-py3-none-any.whl (6.4 kB)\r\n",
      "Downloading parameterized-0.9.0-py2.py3-none-any.whl (20 kB)\r\n",
      "Downloading pyannote.core-5.0.0-py3-none-any.whl (58 kB)\r\n",
      "\u001b[2K   \u001b[90m━━━━━━━━━━━━━━━━━━━━━━━━━━━━━━━━━━━━━━━━\u001b[0m \u001b[32m58.5/58.5 kB\u001b[0m \u001b[31m3.4 MB/s\u001b[0m eta \u001b[36m0:00:00\u001b[0m\r\n",
      "\u001b[?25hDownloading pyannote.metrics-3.2.1-py3-none-any.whl (51 kB)\r\n",
      "\u001b[2K   \u001b[90m━━━━━━━━━━━━━━━━━━━━━━━━━━━━━━━━━━━━━━━━\u001b[0m \u001b[32m51.4/51.4 kB\u001b[0m \u001b[31m2.7 MB/s\u001b[0m eta \u001b[36m0:00:00\u001b[0m\r\n",
      "\u001b[?25hDownloading pyloudnorm-0.1.1-py3-none-any.whl (9.6 kB)\r\n",
      "Downloading PyMCubes-0.1.6-cp310-cp310-manylinux_2_17_x86_64.manylinux2014_x86_64.whl (318 kB)\r\n",
      "\u001b[2K   \u001b[90m━━━━━━━━━━━━━━━━━━━━━━━━━━━━━━━━━━━━━━━━\u001b[0m \u001b[32m318.4/318.4 kB\u001b[0m \u001b[31m17.4 MB/s\u001b[0m eta \u001b[36m0:00:00\u001b[0m\r\n",
      "\u001b[?25hDownloading pypinyin-0.53.0-py2.py3-none-any.whl (834 kB)\r\n",
      "\u001b[2K   \u001b[90m━━━━━━━━━━━━━━━━━━━━━━━━━━━━━━━━━━━━━━━━\u001b[0m \u001b[32m834.7/834.7 kB\u001b[0m \u001b[31m39.3 MB/s\u001b[0m eta \u001b[36m0:00:00\u001b[0m\r\n",
      "\u001b[?25hDownloading pypinyin_dict-0.8.0-py2.py3-none-any.whl (9.5 MB)\r\n",
      "\u001b[2K   \u001b[90m━━━━━━━━━━━━━━━━━━━━━━━━━━━━━━━━━━━━━━━━\u001b[0m \u001b[32m9.5/9.5 MB\u001b[0m \u001b[31m49.4 MB/s\u001b[0m eta \u001b[36m0:00:00\u001b[0m\r\n",
      "\u001b[?25hDownloading pystoi-0.4.1-py2.py3-none-any.whl (8.2 kB)\r\n",
      "Downloading pytest_mock-3.14.0-py3-none-any.whl (9.9 kB)\r\n",
      "Using cached pytest_runner-6.0.1-py3-none-any.whl (7.2 kB)\r\n",
      "Downloading resampy-0.4.3-py3-none-any.whl (3.1 MB)\r\n",
      "\u001b[2K   \u001b[90m━━━━━━━━━━━━━━━━━━━━━━━━━━━━━━━━━━━━━━━━\u001b[0m \u001b[32m3.1/3.1 MB\u001b[0m \u001b[31m70.4 MB/s\u001b[0m eta \u001b[36m0:00:00\u001b[0m\r\n",
      "\u001b[?25hDownloading sacrebleu-2.4.3-py3-none-any.whl (103 kB)\r\n",
      "\u001b[2K   \u001b[90m━━━━━━━━━━━━━━━━━━━━━━━━━━━━━━━━━━━━━━━━\u001b[0m \u001b[32m104.0/104.0 kB\u001b[0m \u001b[31m6.1 MB/s\u001b[0m eta \u001b[36m0:00:00\u001b[0m\r\n",
      "\u001b[?25hDownloading sentence_transformers-3.2.1-py3-none-any.whl (255 kB)\r\n",
      "\u001b[2K   \u001b[90m━━━━━━━━━━━━━━━━━━━━━━━━━━━━━━━━━━━━━━━━\u001b[0m \u001b[32m255.8/255.8 kB\u001b[0m \u001b[31m14.6 MB/s\u001b[0m eta \u001b[36m0:00:00\u001b[0m\r\n",
      "\u001b[?25hDownloading sphinx-8.1.3-py3-none-any.whl (3.5 MB)\r\n",
      "\u001b[2K   \u001b[90m━━━━━━━━━━━━━━━━━━━━━━━━━━━━━━━━━━━━━━━━\u001b[0m \u001b[32m3.5/3.5 MB\u001b[0m \u001b[31m65.7 MB/s\u001b[0m eta \u001b[36m0:00:00\u001b[0m\r\n",
      "\u001b[?25hDownloading sphinxcontrib_bibtex-2.6.3-py3-none-any.whl (40 kB)\r\n",
      "\u001b[2K   \u001b[90m━━━━━━━━━━━━━━━━━━━━━━━━━━━━━━━━━━━━━━━━\u001b[0m \u001b[32m40.3/40.3 kB\u001b[0m \u001b[31m2.1 MB/s\u001b[0m eta \u001b[36m0:00:00\u001b[0m\r\n",
      "\u001b[?25hDownloading taming_transformers-0.0.1-py3-none-any.whl (45 kB)\r\n",
      "\u001b[2K   \u001b[90m━━━━━━━━━━━━━━━━━━━━━━━━━━━━━━━━━━━━━━━━\u001b[0m \u001b[32m45.6/45.6 kB\u001b[0m \u001b[31m2.8 MB/s\u001b[0m eta \u001b[36m0:00:00\u001b[0m\r\n",
      "\u001b[?25hDownloading torchdiffeq-0.2.4-py3-none-any.whl (32 kB)\r\n",
      "Downloading torchsde-0.2.6-py3-none-any.whl (61 kB)\r\n",
      "\u001b[2K   \u001b[90m━━━━━━━━━━━━━━━━━━━━━━━━━━━━━━━━━━━━━━━━\u001b[0m \u001b[32m61.2/61.2 kB\u001b[0m \u001b[31m3.5 MB/s\u001b[0m eta \u001b[36m0:00:00\u001b[0m\r\n",
      "\u001b[?25hDownloading trimesh-4.5.2-py3-none-any.whl (704 kB)\r\n",
      "\u001b[2K   \u001b[90m━━━━━━━━━━━━━━━━━━━━━━━━━━━━━━━━━━━━━━━━\u001b[0m \u001b[32m704.4/704.4 kB\u001b[0m \u001b[31m31.1 MB/s\u001b[0m eta \u001b[36m0:00:00\u001b[0m\r\n",
      "\u001b[?25hDownloading zarr-2.18.3-py3-none-any.whl (210 kB)\r\n",
      "\u001b[2K   \u001b[90m━━━━━━━━━━━━━━━━━━━━━━━━━━━━━━━━━━━━━━━━\u001b[0m \u001b[32m210.7/210.7 kB\u001b[0m \u001b[31m11.7 MB/s\u001b[0m eta \u001b[36m0:00:00\u001b[0m\r\n",
      "\u001b[?25hDownloading alabaster-1.0.0-py3-none-any.whl (13 kB)\r\n",
      "Downloading aniso8601-9.0.1-py2.py3-none-any.whl (52 kB)\r\n",
      "\u001b[2K   \u001b[90m━━━━━━━━━━━━━━━━━━━━━━━━━━━━━━━━━━━━━━━━\u001b[0m \u001b[32m52.8/52.8 kB\u001b[0m \u001b[31m2.8 MB/s\u001b[0m eta \u001b[36m0:00:00\u001b[0m\r\n",
      "\u001b[?25hDownloading docutils-0.21.2-py3-none-any.whl (587 kB)\r\n",
      "\u001b[2K   \u001b[90m━━━━━━━━━━━━━━━━━━━━━━━━━━━━━━━━━━━━━━━━\u001b[0m \u001b[32m587.4/587.4 kB\u001b[0m \u001b[31m29.0 MB/s\u001b[0m eta \u001b[36m0:00:00\u001b[0m\r\n",
      "\u001b[?25hDownloading imagesize-1.4.1-py2.py3-none-any.whl (8.8 kB)\r\n",
      "Downloading lilcom-1.8.0-cp310-cp310-manylinux_2_17_x86_64.manylinux2014_x86_64.whl (87 kB)\r\n",
      "\u001b[2K   \u001b[90m━━━━━━━━━━━━━━━━━━━━━━━━━━━━━━━━━━━━━━━━\u001b[0m \u001b[32m87.2/87.2 kB\u001b[0m \u001b[31m5.1 MB/s\u001b[0m eta \u001b[36m0:00:00\u001b[0m\r\n",
      "\u001b[?25hDownloading numcodecs-0.13.1-cp310-cp310-manylinux_2_17_x86_64.manylinux2014_x86_64.whl (8.6 MB)\r\n",
      "\u001b[2K   \u001b[90m━━━━━━━━━━━━━━━━━━━━━━━━━━━━━━━━━━━━━━━━\u001b[0m \u001b[32m8.6/8.6 MB\u001b[0m \u001b[31m88.9 MB/s\u001b[0m eta \u001b[36m0:00:00\u001b[0m\r\n",
      "\u001b[?25hDownloading pathspec-0.12.1-py3-none-any.whl (31 kB)\r\n",
      "Downloading pyannote.database-5.1.0-py3-none-any.whl (48 kB)\r\n",
      "\u001b[2K   \u001b[90m━━━━━━━━━━━━━━━━━━━━━━━━━━━━━━━━━━━━━━━━\u001b[0m \u001b[32m48.1/48.1 kB\u001b[0m \u001b[31m2.7 MB/s\u001b[0m eta \u001b[36m0:00:00\u001b[0m\r\n",
      "\u001b[?25hDownloading pybtex-0.24.0-py2.py3-none-any.whl (561 kB)\r\n",
      "\u001b[2K   \u001b[90m━━━━━━━━━━━━━━━━━━━━━━━━━━━━━━━━━━━━━━━━\u001b[0m \u001b[32m561.4/561.4 kB\u001b[0m \u001b[31m26.1 MB/s\u001b[0m eta \u001b[36m0:00:00\u001b[0m\r\n",
      "\u001b[?25hDownloading pybtex_docutils-1.0.3-py3-none-any.whl (6.4 kB)\r\n",
      "Downloading sphinxcontrib_applehelp-2.0.0-py3-none-any.whl (119 kB)\r\n",
      "\u001b[2K   \u001b[90m━━━━━━━━━━━━━━━━━━━━━━━━━━━━━━━━━━━━━━━━\u001b[0m \u001b[32m119.3/119.3 kB\u001b[0m \u001b[31m6.5 MB/s\u001b[0m eta \u001b[36m0:00:00\u001b[0m\r\n",
      "\u001b[?25hDownloading sphinxcontrib_devhelp-2.0.0-py3-none-any.whl (82 kB)\r\n",
      "\u001b[2K   \u001b[90m━━━━━━━━━━━━━━━━━━━━━━━━━━━━━━━━━━━━━━━━\u001b[0m \u001b[32m82.5/82.5 kB\u001b[0m \u001b[31m5.6 MB/s\u001b[0m eta \u001b[36m0:00:00\u001b[0m\r\n",
      "\u001b[?25hDownloading sphinxcontrib_htmlhelp-2.1.0-py3-none-any.whl (98 kB)\r\n",
      "\u001b[2K   \u001b[90m━━━━━━━━━━━━━━━━━━━━━━━━━━━━━━━━━━━━━━━━\u001b[0m \u001b[32m98.7/98.7 kB\u001b[0m \u001b[31m5.8 MB/s\u001b[0m eta \u001b[36m0:00:00\u001b[0m\r\n",
      "\u001b[?25hDownloading sphinxcontrib_jsmath-1.0.1-py2.py3-none-any.whl (5.1 kB)\r\n",
      "Downloading sphinxcontrib_qthelp-2.0.0-py3-none-any.whl (88 kB)\r\n",
      "\u001b[2K   \u001b[90m━━━━━━━━━━━━━━━━━━━━━━━━━━━━━━━━━━━━━━━━\u001b[0m \u001b[32m88.7/88.7 kB\u001b[0m \u001b[31m5.7 MB/s\u001b[0m eta \u001b[36m0:00:00\u001b[0m\r\n",
      "\u001b[?25hDownloading sphinxcontrib_serializinghtml-2.0.0-py3-none-any.whl (92 kB)\r\n",
      "\u001b[2K   \u001b[90m━━━━━━━━━━━━━━━━━━━━━━━━━━━━━━━━━━━━━━━━\u001b[0m \u001b[32m92.1/92.1 kB\u001b[0m \u001b[31m6.2 MB/s\u001b[0m eta \u001b[36m0:00:00\u001b[0m\r\n",
      "\u001b[?25hDownloading trampoline-0.1.2-py3-none-any.whl (5.2 kB)\r\n",
      "Downloading levenshtein-0.26.1-cp310-cp310-manylinux_2_17_x86_64.manylinux2014_x86_64.whl (162 kB)\r\n",
      "\u001b[2K   \u001b[90m━━━━━━━━━━━━━━━━━━━━━━━━━━━━━━━━━━━━━━━━\u001b[0m \u001b[32m162.6/162.6 kB\u001b[0m \u001b[31m9.4 MB/s\u001b[0m eta \u001b[36m0:00:00\u001b[0m\r\n",
      "\u001b[?25hDownloading libcst-1.5.0-cp310-cp310-manylinux_2_17_x86_64.manylinux2014_x86_64.whl (2.3 MB)\r\n",
      "\u001b[2K   \u001b[90m━━━━━━━━━━━━━━━━━━━━━━━━━━━━━━━━━━━━━━━━\u001b[0m \u001b[32m2.3/2.3 MB\u001b[0m \u001b[31m59.3 MB/s\u001b[0m eta \u001b[36m0:00:00\u001b[0m\r\n",
      "\u001b[?25hDownloading loguru-0.7.2-py3-none-any.whl (62 kB)\r\n",
      "\u001b[2K   \u001b[90m━━━━━━━━━━━━━━━━━━━━━━━━━━━━━━━━━━━━━━━━\u001b[0m \u001b[32m62.5/62.5 kB\u001b[0m \u001b[31m3.5 MB/s\u001b[0m eta \u001b[36m0:00:00\u001b[0m\r\n",
      "\u001b[?25hDownloading plac-1.4.3-py2.py3-none-any.whl (22 kB)\r\n",
      "Downloading portalocker-2.10.1-py3-none-any.whl (18 kB)\r\n",
      "Downloading s3fs-0.6.0-py3-none-any.whl (23 kB)\r\n",
      "Downloading aiobotocore-2.5.2-py3-none-any.whl (72 kB)\r\n",
      "\u001b[2K   \u001b[90m━━━━━━━━━━━━━━━━━━━━━━━━━━━━━━━━━━━━━━━━\u001b[0m \u001b[32m72.9/72.9 kB\u001b[0m \u001b[31m5.3 MB/s\u001b[0m eta \u001b[36m0:00:00\u001b[0m\r\n",
      "\u001b[?25hDownloading botocore-1.29.161-py3-none-any.whl (10.9 MB)\r\n",
      "\u001b[2K   \u001b[90m━━━━━━━━━━━━━━━━━━━━━━━━━━━━━━━━━━━━━━━━\u001b[0m \u001b[32m10.9/10.9 MB\u001b[0m \u001b[31m53.4 MB/s\u001b[0m eta \u001b[36m0:00:00\u001b[0m\r\n",
      "\u001b[?25hDownloading triton-3.1.0-cp310-cp310-manylinux_2_17_x86_64.manylinux2014_x86_64.whl (209.5 MB)\r\n",
      "\u001b[2K   \u001b[90m━━━━━━━━━━━━━━━━━━━━━━━━━━━━━━━━━━━━━━━━\u001b[0m \u001b[32m209.5/209.5 MB\u001b[0m \u001b[31m7.6 MB/s\u001b[0m eta \u001b[36m0:00:00\u001b[0m\r\n",
      "\u001b[?25hDownloading latexcodec-3.0.0-py3-none-any.whl (18 kB)\r\n",
      "Building wheels for collected packages: nemo_toolkit, mamba-ssm, antlr4-python3-runtime, progress, clip, kaldi-python-io, pesq, rouge-score, sox, texterrors, distance, intervaltree, asciitree, cdifflib\r\n",
      "  Building wheel for nemo_toolkit (pyproject.toml) ... \u001b[?25l-\b \b\\\b \b|\b \b/\b \b-\b \b\\\b \b|\b \b/\b \b-\b \b\\\b \b|\b \b/\b \b-\b \b\\\b \b|\b \b/\b \b-\b \b\\\b \b|\b \b/\b \bdone\r\n",
      "\u001b[?25h  Created wheel for nemo_toolkit: filename=nemo_toolkit-2.1.0rc0-py3-none-any.whl size=4786806 sha256=67e98b248f0cd0842f31543c647b151129fbd32ae1f7edd103ed4f258861d7f0\r\n",
      "  Stored in directory: /tmp/pip-ephem-wheel-cache-xptq8vzv/wheels/6c/d2/4f/1572b895b6a4dbd9fdf534c882d9bc6e94e700a6db5bb20423\r\n",
      "  Building wheel for mamba-ssm (setup.py) ... \u001b[?25l-\b \b\\\b \b|\b \bdone\r\n",
      "\u001b[?25h  Created wheel for mamba-ssm: filename=mamba_ssm-2.2.2-cp310-cp310-linux_x86_64.whl size=323998290 sha256=a658a5438dbe9fb3a53799d7d9f4714ca09225769c24ec04a403728ac7d1c69e\r\n",
      "  Stored in directory: /root/.cache/pip/wheels/57/7c/90/9f963468ecc3791e36e388f9e7b4a4e1e3f90fbb340055aa4d\r\n",
      "  Building wheel for antlr4-python3-runtime (setup.py) ... \u001b[?25l-\b \b\\\b \bdone\r\n",
      "\u001b[?25h  Created wheel for antlr4-python3-runtime: filename=antlr4_python3_runtime-4.9.3-py3-none-any.whl size=144554 sha256=3b809f1da503765ea955b4ee3fbecbb8f8ecc4abe17c4fbcdf597e10afd56a47\r\n",
      "  Stored in directory: /root/.cache/pip/wheels/12/93/dd/1f6a127edc45659556564c5730f6d4e300888f4bca2d4c5a88\r\n",
      "  Building wheel for progress (setup.py) ... \u001b[?25l-\b \b\\\b \bdone\r\n",
      "\u001b[?25h  Created wheel for progress: filename=progress-1.6-py3-none-any.whl size=9614 sha256=41361b788a792ca6b11806ea30deb637df545e828dc50f93fb6dec1f2ac9faa4\r\n",
      "  Stored in directory: /root/.cache/pip/wheels/a2/68/5f/c339b20a41659d856c93ccdce6a33095493eb82c3964aac5a1\r\n",
      "  Building wheel for clip (setup.py) ... \u001b[?25l-\b \b\\\b \bdone\r\n",
      "\u001b[?25h  Created wheel for clip: filename=clip-0.2.0-py3-none-any.whl size=6989 sha256=41021f340c71a5e73dd9cce4f88d53ed34195083983b86a458e834c334bf042a\r\n",
      "  Stored in directory: /root/.cache/pip/wheels/7f/5c/e6/2c0fdb453a3569188864b17e9676bea8b3b7e160c037117869\r\n",
      "  Building wheel for kaldi-python-io (setup.py) ... \u001b[?25l-\b \b\\\b \bdone\r\n",
      "\u001b[?25h  Created wheel for kaldi-python-io: filename=kaldi_python_io-1.2.2-py3-none-any.whl size=8949 sha256=3164628206e15e468ea0b36c627e01111e7021594aa792b420d807d17c947ef0\r\n",
      "  Stored in directory: /root/.cache/pip/wheels/b7/23/5f/49d3a826be576faf61d84e8028e1914bb36a5586ee2613b087\r\n",
      "  Building wheel for pesq (setup.py) ... \u001b[?25l-\b \b\\\b \b|\b \b/\b \b-\b \b\\\b \b|\b \bdone\r\n",
      "\u001b[?25h  Created wheel for pesq: filename=pesq-0.0.4-cp310-cp310-linux_x86_64.whl size=114934 sha256=93815a3650050c39b146f7cc07c5df73be42816efbbfb69815361329397a5816\r\n",
      "  Stored in directory: /root/.cache/pip/wheels/c5/4e/2c/251524370c0fdd659e99639a0fbd0ca5a782c3aafcd456b28d\r\n",
      "  Building wheel for rouge-score (setup.py) ... \u001b[?25l-\b \b\\\b \bdone\r\n",
      "\u001b[?25h  Created wheel for rouge-score: filename=rouge_score-0.1.2-py3-none-any.whl size=24934 sha256=f3adb5595ccc7f192e6c8c84aa3f8630b8dcf6e898c74052a1db98025216074b\r\n",
      "  Stored in directory: /root/.cache/pip/wheels/5f/dd/89/461065a73be61a532ff8599a28e9beef17985c9e9c31e541b4\r\n",
      "  Building wheel for sox (setup.py) ... \u001b[?25l-\b \b\\\b \b|\b \bdone\r\n",
      "\u001b[?25h  Created wheel for sox: filename=sox-1.5.0-py3-none-any.whl size=40038 sha256=d73418483c2a0cacd9594b796c614513a55a80d84dab52d81e7b31c6b0c22610\r\n",
      "  Stored in directory: /root/.cache/pip/wheels/74/e7/7b/8033be3ec5e4994595d01269fc9657c8fd83a0dcbf8536666a\r\n",
      "  Building wheel for texterrors (setup.py) ... \u001b[?25l-\b \b\\\b \b|\b \b/\b \bdone\r\n",
      "\u001b[?25h  Created wheel for texterrors: filename=texterrors-0.5.1-cp310-cp310-linux_x86_64.whl size=100319 sha256=3dd92eec9a9fd57f5a9dd961a3c936919ec4736a21c72cc89d81b206439bc211\r\n",
      "  Stored in directory: /root/.cache/pip/wheels/64/b3/44/612e60c5d0d1f956213e08ae2c3f73443fde51878c778a9a38\r\n",
      "  Building wheel for distance (setup.py) ... \u001b[?25l-\b \b\\\b \bdone\r\n",
      "\u001b[?25h  Created wheel for distance: filename=Distance-0.1.3-py3-none-any.whl size=16258 sha256=0a7f57ed39cb0cbc1b235f8c2ef91fb5079e0a035017307e4b6af16e36affb75\r\n",
      "  Stored in directory: /root/.cache/pip/wheels/e8/bb/de/f71bf63559ea9a921059a5405806f7ff6ed612a9231c4a9309\r\n",
      "  Building wheel for intervaltree (setup.py) ... \u001b[?25l-\b \b\\\b \bdone\r\n",
      "\u001b[?25h  Created wheel for intervaltree: filename=intervaltree-3.1.0-py2.py3-none-any.whl size=26096 sha256=2d3290851ce71eded97a3fde97bdf29aff9e93b45285829d2cbda548db474baa\r\n",
      "  Stored in directory: /root/.cache/pip/wheels/fa/80/8c/43488a924a046b733b64de3fac99252674c892a4c3801c0a61\r\n",
      "  Building wheel for asciitree (setup.py) ... \u001b[?25l-\b \b\\\b \bdone\r\n",
      "\u001b[?25h  Created wheel for asciitree: filename=asciitree-0.3.3-py3-none-any.whl size=5034 sha256=841960d339db0bfd2ea97a3ec482196f744b0d6d874a32d188164f1826d78ad4\r\n",
      "  Stored in directory: /root/.cache/pip/wheels/7f/4e/be/1171b40f43b918087657ec57cf3b81fa1a2e027d8755baa184\r\n",
      "  Building wheel for cdifflib (pyproject.toml) ... \u001b[?25l-\b \b\\\b \b|\b \bdone\r\n",
      "\u001b[?25h  Created wheel for cdifflib: filename=cdifflib-1.2.6-cp310-cp310-linux_x86_64.whl size=12398 sha256=b10d446b7e4874769c90f6394976ce51a599ff7fe59c5adef3dad3334fc64c75\r\n",
      "  Stored in directory: /root/.cache/pip/wheels/87/a7/fd/8061e24ed08689045cb6d1ca303768dc463b20a5a338174841\r\n",
      "Successfully built nemo_toolkit mamba-ssm antlr4-python3-runtime progress clip kaldi-python-io pesq rouge-score sox texterrors distance intervaltree asciitree cdifflib\r\n",
      "Installing collected packages: trampoline, progress, plac, pesq, pangu, opencc, ijson, distance, clip, braceexpand, asciitree, antlr4-python3-runtime, aniso8601, addict, webdataset, triton, trimesh, textdistance, tensorstore, sphinxcontrib-serializinghtml, sphinxcontrib-qthelp, sphinxcontrib-jsmath, sphinxcontrib-htmlhelp, sphinxcontrib-devhelp, sphinxcontrib-applehelp, sox, sacremoses, rapidfuzz, pytest-runner, pypinyin, pynini, portalocker, pathspec, parameterized, packaging, omegaconf, numcodecs, nltk, markdown2, loguru, lilcom, libcst, latexcodec, kaldiio, kaldi-python-io, intervaltree, imagesize, ftfy, einops, editdistance, docutils, decord, cdifflib, attrdict, alabaster, zarr, tiktoken, sphinx, sacrebleu, rouge-score, resampy, pystoi, pypinyin-dict, PyMCubes, pyloudnorm, pybtex, pyannote.core, Levenshtein, jiwer, inflect, hydra-core, fiddle, faiss-cpu, einops-exts, botocore, black, torchsde, torchdiffeq, texterrors, pytest-mock, pybtex-docutils, nerfacc, nemo_toolkit, lhotse, gdown, g2p-en, flask-restful, diffusers, aiobotocore, accelerated-scan, sphinxcontrib-bibtex, s3fs, pyannote.database, mediapy, taming-transformers, sentence-transformers, pyannote.metrics, open-clip-torch, nemo-text-processing, megatron-energon, mamba-ssm\r\n",
      "  Attempting uninstall: tensorstore\r\n",
      "    Found existing installation: tensorstore 0.1.66\r\n",
      "    Uninstalling tensorstore-0.1.66:\r\n",
      "      Successfully uninstalled tensorstore-0.1.66\r\n",
      "  Attempting uninstall: packaging\r\n",
      "    Found existing installation: packaging 21.3\r\n",
      "    Uninstalling packaging-21.3:\r\n",
      "      Successfully uninstalled packaging-21.3\r\n",
      "  Attempting uninstall: nltk\r\n",
      "    Found existing installation: nltk 3.2.4\r\n",
      "    Uninstalling nltk-3.2.4:\r\n",
      "      Successfully uninstalled nltk-3.2.4\r\n",
      "  Attempting uninstall: botocore\r\n",
      "    Found existing installation: botocore 1.35.23\r\n",
      "    Uninstalling botocore-1.35.23:\r\n",
      "      Successfully uninstalled botocore-1.35.23\r\n",
      "  Attempting uninstall: aiobotocore\r\n",
      "    Found existing installation: aiobotocore 2.15.1\r\n",
      "    Uninstalling aiobotocore-2.15.1:\r\n",
      "      Successfully uninstalled aiobotocore-2.15.1\r\n",
      "  Attempting uninstall: s3fs\r\n",
      "    Found existing installation: s3fs 2024.6.1\r\n",
      "    Uninstalling s3fs-2024.6.1:\r\n",
      "      Successfully uninstalled s3fs-2024.6.1\r\n",
      "\u001b[31mERROR: pip's dependency resolver does not currently take into account all the packages that are installed. This behaviour is the source of the following dependency conflicts.\r\n",
      "cudf 24.8.3 requires cubinlinker, which is not installed.\r\n",
      "cudf 24.8.3 requires cupy-cuda11x>=12.0.0, which is not installed.\r\n",
      "cudf 24.8.3 requires ptxcompiler, which is not installed.\r\n",
      "cuml 24.8.0 requires cupy-cuda11x>=12.0.0, which is not installed.\r\n",
      "dask-cudf 24.8.3 requires cupy-cuda11x>=12.0.0, which is not installed.\r\n",
      "cudf 24.8.3 requires cuda-python<12.0a0,>=11.7.1, but you have cuda-python 12.6.0 which is incompatible.\r\n",
      "distributed 2024.7.1 requires dask==2024.7.1, but you have dask 2024.9.1 which is incompatible.\r\n",
      "google-cloud-bigquery 2.34.4 requires packaging<22.0dev,>=14.3, but you have packaging 24.1 which is incompatible.\r\n",
      "jupyterlab 4.2.5 requires jupyter-lsp>=2.0.0, but you have jupyter-lsp 1.5.1 which is incompatible.\r\n",
      "jupyterlab-lsp 5.1.0 requires jupyter-lsp>=2.0.0, but you have jupyter-lsp 1.5.1 which is incompatible.\r\n",
      "libpysal 4.9.2 requires shapely>=2.0.1, but you have shapely 1.8.5.post1 which is incompatible.\r\n",
      "orbax-checkpoint 0.6.4 requires tensorstore>=0.1.60, but you have tensorstore 0.1.45 which is incompatible.\r\n",
      "preprocessing 0.1.13 requires nltk==3.2.4, but you have nltk 3.9.1 which is incompatible.\r\n",
      "rapids-dask-dependency 24.8.0a0 requires dask==2024.7.1, but you have dask 2024.9.1 which is incompatible.\r\n",
      "ydata-profiling 4.10.0 requires scipy<1.14,>=1.4.1, but you have scipy 1.14.1 which is incompatible.\u001b[0m\u001b[31m\r\n",
      "\u001b[0mSuccessfully installed Levenshtein-0.26.1 PyMCubes-0.1.6 accelerated-scan-0.2.0 addict-2.4.0 aiobotocore-2.5.2 alabaster-1.0.0 aniso8601-9.0.1 antlr4-python3-runtime-4.9.3 asciitree-0.3.3 attrdict-2.0.1 black-24.10.0 botocore-1.29.161 braceexpand-0.1.7 cdifflib-1.2.6 clip-0.2.0 decord-0.6.0 diffusers-0.31.0 distance-0.1.3 docutils-0.21.2 editdistance-0.8.1 einops-0.8.0 einops-exts-0.0.4 faiss-cpu-1.9.0 fiddle-0.3.0 flask-restful-0.3.10 ftfy-6.3.1 g2p-en-2.1.0 gdown-5.2.0 hydra-core-1.3.2 ijson-3.3.0 imagesize-1.4.1 inflect-7.4.0 intervaltree-3.1.0 jiwer-3.0.5 kaldi-python-io-1.2.2 kaldiio-2.18.0 latexcodec-3.0.0 lhotse-1.27.0 libcst-1.5.0 lilcom-1.8.0 loguru-0.7.2 mamba-ssm-2.2.2 markdown2-2.5.1 mediapy-1.1.6 megatron-energon-3.0.1 nemo-text-processing-1.1.0 nemo_toolkit-2.1.0rc0 nerfacc-0.5.3 nltk-3.9.1 numcodecs-0.13.1 omegaconf-2.3.0 open-clip-torch-2.24.0 opencc-1.1.6 packaging-24.1 pangu-4.0.6.1 parameterized-0.9.0 pathspec-0.12.1 pesq-0.0.4 plac-1.4.3 portalocker-2.10.1 progress-1.6 pyannote.core-5.0.0 pyannote.database-5.1.0 pyannote.metrics-3.2.1 pybtex-0.24.0 pybtex-docutils-1.0.3 pyloudnorm-0.1.1 pynini-2.1.6.post1 pypinyin-0.53.0 pypinyin-dict-0.8.0 pystoi-0.4.1 pytest-mock-3.14.0 pytest-runner-6.0.1 rapidfuzz-3.10.1 resampy-0.4.3 rouge-score-0.1.2 s3fs-0.6.0 sacrebleu-2.4.3 sacremoses-0.1.1 sentence-transformers-3.2.1 sox-1.5.0 sphinx-8.1.3 sphinxcontrib-applehelp-2.0.0 sphinxcontrib-bibtex-2.6.3 sphinxcontrib-devhelp-2.0.0 sphinxcontrib-htmlhelp-2.1.0 sphinxcontrib-jsmath-1.0.1 sphinxcontrib-qthelp-2.0.0 sphinxcontrib-serializinghtml-2.0.0 taming-transformers-0.0.1 tensorstore-0.1.45 textdistance-4.6.3 texterrors-0.5.1 tiktoken-0.7.0 torchdiffeq-0.2.4 torchsde-0.2.6 trampoline-0.1.2 trimesh-4.5.2 triton-3.1.0 webdataset-0.2.100 zarr-2.18.3\r\n"
     ]
    },
    {
     "data": {
      "text/plain": [
       "'\\nRemember to restart the runtime for the kernel to pick up any upgraded packages (e.g. matplotlib)!\\nAlternatively, you can uncomment the exit() below to crash and restart the kernel, in the case\\nthat you want to use the \"Run All Cells\" (or similar) option.\\n'"
      ]
     },
     "execution_count": 1,
     "metadata": {},
     "output_type": "execute_result"
    }
   ],
   "source": [
    "\"\"\"\n",
    "You can run either this notebook locally (if you have all the dependencies and a GPU) or on Google Colab.\n",
    "\n",
    "Instructions for setting up Colab are as follows:\n",
    "1. Open a new Python 3 notebook.\n",
    "2. Import this notebook from GitHub (File -> Upload Notebook -> \"GITHUB\" tab -> copy/paste GitHub URL)\n",
    "3. Connect to an instance with a GPU (Runtime -> Change runtime type -> select \"GPU\" for hardware accelerator)\n",
    "4. Run this cell to set up dependencies.\n",
    "5. Restart the runtime (Runtime -> Restart Runtime) for any upgraded packages to take effect\n",
    "\n",
    "\n",
    "NOTE: User is responsible for checking the content of datasets and the applicable licenses and determining if suitable for the intended use.\n",
    "\"\"\"\n",
    "# If you're using Google Colab and not running locally, run this cell.\n",
    "\n",
    "## Install dependencies\n",
    "!pip install wget\n",
    "!apt-get install -y sox libsndfile1 ffmpeg\n",
    "!pip install text-unidecode\n",
    "!pip install matplotlib>=3.3.2\n",
    "\n",
    "## Install NeMo\n",
    "BRANCH = 'main'\n",
    "!python -m pip install git+https://github.com/NVIDIA/NeMo.git@$BRANCH#egg=nemo_toolkit[all]\n",
    "\n",
    "\"\"\"\n",
    "Remember to restart the runtime for the kernel to pick up any upgraded packages (e.g. matplotlib)!\n",
    "Alternatively, you can uncomment the exit() below to crash and restart the kernel, in the case\n",
    "that you want to use the \"Run All Cells\" (or similar) option.\n",
    "\"\"\"\n",
    "# exit()"
   ]
  },
  {
   "cell_type": "code",
   "execution_count": 2,
   "id": "d5e9e54f",
   "metadata": {
    "execution": {
     "iopub.execute_input": "2024-11-07T05:33:10.886587Z",
     "iopub.status.busy": "2024-11-07T05:33:10.885664Z",
     "iopub.status.idle": "2024-11-07T05:33:10.890759Z",
     "shell.execute_reply": "2024-11-07T05:33:10.889844Z"
    },
    "papermill": {
     "duration": 0.07052,
     "end_time": "2024-11-07T05:33:10.892773",
     "exception": false,
     "start_time": "2024-11-07T05:33:10.822253",
     "status": "completed"
    },
    "tags": []
   },
   "outputs": [],
   "source": [
    "exit()"
   ]
  },
  {
   "cell_type": "markdown",
   "id": "851be276",
   "metadata": {
    "id": "v1Jk9etFlRzf",
    "papermill": {
     "duration": 0.064569,
     "end_time": "2024-11-07T05:33:11.020502",
     "exception": false,
     "start_time": "2024-11-07T05:33:10.955933",
     "status": "completed"
    },
    "tags": []
   },
   "source": [
    "# Introduction to End-To-End Automatic Speech Recognition\n",
    "\n",
    "This notebook contains a basic tutorial of Automatic Speech Recognition (ASR) concepts, introduced with code snippets using the [NeMo Framework](https://github.com/NVIDIA/NeMo).\n",
    "We will first introduce the basics of the main concepts behind speech recognition, then explore concrete examples of what the data looks like and walk through putting together a simple end-to-end ASR pipeline.\n",
    "\n",
    "We assume that you are familiar with general machine learning concepts and can follow Python code, and we'll be using the [AN4 dataset from CMU](http://www.speech.cs.cmu.edu/databases/an4/) (with processing using `sox`)."
   ]
  },
  {
   "cell_type": "markdown",
   "id": "5c645d4e",
   "metadata": {
    "id": "YLln3U-IlRzg",
    "papermill": {
     "duration": 0.06539,
     "end_time": "2024-11-07T05:33:11.157430",
     "exception": false,
     "start_time": "2024-11-07T05:33:11.092040",
     "status": "completed"
    },
    "tags": []
   },
   "source": [
    "## Conceptual Overview: What is ASR?\n",
    "\n",
    "ASR, or **Automatic Speech Recognition**, refers to the problem of getting a program to automatically transcribe spoken language (speech-to-text). Our goal is usually to have a model that minimizes the **Word Error Rate (WER)** metric when transcribing speech input. In other words, given some audio file (e.g. a WAV file) containing speech, how do we transform this into the corresponding text with as few errors as possible?\n",
    "\n",
    "Traditional speech recognition takes a generative approach, modeling the full pipeline of how speech sounds are produced in order to evaluate a speech sample. We would start from a **language model** that encapsulates the most likely orderings of words that are generated (e.g. an n-gram model), to a **pronunciation model** for each word in that ordering (e.g. a pronunciation table), to an **acoustic model** that translates those pronunciations to audio waveforms (e.g. a Gaussian Mixture Model).\n",
    "\n",
    "Then, if we receive some spoken input, our goal would be to find the most likely sequence of text that would result in the given audio according to our generative pipeline of models. Overall, with traditional speech recognition, we try to model `Pr(audio|transcript)*Pr(transcript)`, and take the argmax of this over possible transcripts.\n",
    "\n",
    "Over time, neural nets advanced to the point where each component of the traditional speech recognition model could be replaced by a neural model that had better performance and that had a greater potential for generalization. For example, we could replace an n-gram model with a neural language model, and replace a pronunciation table with a neural pronunciation model, and so on. However, each of these neural models need to be trained individually on different tasks, and errors in any model in the pipeline could throw off the whole prediction.\n",
    "\n",
    "Thus, we can see the appeal of **end-to-end ASR architectures**: discriminative models that simply take an audio input and give a textual output, and in which all components of the architecture are trained together towards the same goal. The model's encoder would be akin to an acoustic model for extracting speech features, which can then be directly piped to a decoder which outputs text. If desired, we could integrate a language model that would improve our predictions, as well.\n",
    "\n",
    "And the entire end-to-end ASR model can be trained at once--a much easier pipeline to handle! "
   ]
  },
  {
   "cell_type": "markdown",
   "id": "bd7bebe2",
   "metadata": {
    "id": "0S5iZPMSlRzg",
    "papermill": {
     "duration": 0.064972,
     "end_time": "2024-11-07T05:33:11.288079",
     "exception": false,
     "start_time": "2024-11-07T05:33:11.223107",
     "status": "completed"
    },
    "tags": []
   },
   "source": [
    "### End-To-End ASR\n",
    "\n",
    "With an end-to-end model, we want to directly learn `Pr(transcript|audio)` in order to predict the transcripts from the original audio. Since we are dealing with sequential information--audio data over time that corresponds to a sequence of letters--RNNs are the obvious choice. But now we have a pressing problem to deal with: since our input sequence (number of audio timesteps) is not the same length as our desired output (transcript length), how do we match each time step from the audio data to the correct output characters?\n",
    "\n",
    "Earlier speech recognition approaches relied on **temporally-aligned data**, in which each segment of time in an audio file was matched up to a corresponding speech sound such as a phoneme or word. However, if we would like to have the flexibility to predict letter-by-letter to prevent OOV (out of vocabulary) issues, then each time step in the data would have to be labeled with the letter sound that the speaker is making at that point in the audio file. With that information, it seems like we should simply be able to try to predict the correct letter for each time step and then collapse the repeated letters (e.g. the prediction output `LLLAAAAPPTOOOPPPP` would become `LAPTOP`). It turns out that this idea has some problems: not only does alignment make the dataset incredibly labor-intensive to label, but also, what do we do with words like \"book\" that contain consecutive repeated letters? Simply squashing repeated letters together would not work in that case!\n",
    "\n",
    "![Alignment example](https://raw.githubusercontent.com/NVIDIA/NeMo/stable/tutorials/asr/images/alignment_example.png)\n",
    "\n",
    "Modern end-to-end approaches get around this using methods that don't require manual alignment at all, so that the input-output pairs are really just the raw audio and the transcript--no extra data or labeling required. Let's briefly go over two popular approaches that allow us to do this, Connectionist Temporal Classification (CTC) and sequence-to-sequence models with attention.\n",
    "\n",
    "#### Connectionist Temporal Classification (CTC)\n",
    "\n",
    "In normal speech recognition prediction output, we would expect to have characters such as the letters from A through Z, numbers 0 through 9, spaces (\"\\_\"), and so on. CTC introduces a new intermediate output token called the **blank token** (\"-\") that is useful for getting around the alignment issue.\n",
    "\n",
    "With CTC, we still predict one token per time segment of speech, but we use the blank token to figure out where we can and can't collapse the predictions. The appearance of a blank token helps separate repeating letters that should not be collapsed. For instance, with an audio snippet segmented into `T=11` time steps, we could get predictions that look like `BOO-OOO--KK`, which would then collapse to `\"BO-O-K\"`, and then we would remove the blank tokens to get our final output, `BOOK`.\n",
    "\n",
    "Now, we can predict one output token per time step, then collapse and clean to get sensible output without any fear of ambiguity from repeating letters! A simple way of getting predictions like this would be to apply a bidirectional RNN to the audio input, apply softmax over each time step's output, and then take the token with the highest probability. The method of always taking the best token at each time step is called **greedy decoding, or max decoding**.\n",
    "\n",
    "To calculate our loss for backprop, we would like to know the log probability of the model producing the correct transcript, `log(Pr(transcript|audio))`. We can get the log probability of a single intermediate output sequence (e.g. `BOO-OOO--KK`) by summing over the log probabilities we get from each token's softmax value, but note that the resulting sum is different from the log probability of the transcript itself (`BOOK`). This is because there are multiple possible output sequences of the same length that can be collapsed to get the same transcript (e.g. `BBO--OO-KKK` also results in `BOOK`), and so we need to **marginalize over every valid sequence of length `T` that collapses to the transcript**.\n",
    "\n",
    "Therefore, to get our transcript's log probability given our audio input, we must sum the log probabilities of every sequence of length `T` that collapses to the transcript (e.g. `log(Pr(output: \"BOOK\"|audio)) = log(Pr(BOO-OOO--KK|audio)) + log(Pr(BBO--OO-KKK|audio)) + ...`). In practice, we can use a dynamic programming approach to calculate this, accumulating our log probabilities over different \"paths\" through the softmax outputs at each time step.\n",
    "\n",
    "If you would like a more in-depth explanation of how CTC works, or how we can improve our results by using a modified beam search algorithm, feel free to check out the Further Reading section at the end of this notebook for more resources.\n",
    "\n",
    "#### Sequence-to-Sequence with Attention\n",
    "\n",
    "One problem with CTC is that predictions at different time steps are conditionally independent, which is an issue because the words in a continuous utterance tend to be related to each other in some sensible way. With this conditional independence assumption, we can't learn a language model that can represent such dependencies, though we can add a language model on top of the CTC output to mitigate this to some degree.\n",
    "\n",
    "A popular alternative is to use a sequence-to-sequence model with attention. A typical seq2seq model for ASR consists of some sort of **bidirectional RNN encoder** that consumes the audio sequence timestep-by-timestep, and where the outputs are then passed to an **attention-based decoder**. Each prediction from the decoder is based on attending to some parts of the entire encoded input, as well as the previously outputted tokens.\n",
    "\n",
    "The outputs of the decoder can be anything from word pieces to phonemes to letters, and since predictions are not directly tied to time steps of the input, we can just continue producing tokens one-by-one until an end token is given (or we reach a specified max output length). This way, we do not need to deal with audio alignment, and our predicted transcript is just the sequence of outputs given by our decoder.\n",
    "\n",
    "Now that we have an idea of what some popular end-to-end ASR models look like, let's take a look at the audio data we'll be working with for our example."
   ]
  },
  {
   "cell_type": "markdown",
   "id": "447e11c6",
   "metadata": {
    "id": "38aYTCTIlRzh",
    "papermill": {
     "duration": 0.065923,
     "end_time": "2024-11-07T05:33:11.421150",
     "exception": false,
     "start_time": "2024-11-07T05:33:11.355227",
     "status": "completed"
    },
    "tags": []
   },
   "source": [
    "## Taking a Look at Our Data (AN4)\n",
    "\n",
    "The AN4 dataset, also known as the Alphanumeric dataset, was collected and published by Carnegie Mellon University. It consists of recordings of people spelling out addresses, names, telephone numbers, etc., one letter or number at a time, as well as their corresponding transcripts. We choose to use AN4 for this tutorial because it is relatively small, with 948 training and 130 test utterances, and so it trains quickly.\n",
    "\n",
    "Before we get started, let's download and prepare the dataset. The utterances are available as `.sph` files, so we will need to convert them to `.wav` for later processing. If you are not using Google Colab, please make sure you have [Sox](http://sox.sourceforge.net/) installed for this step--see the \"Downloads\" section of the linked Sox homepage. (If you are using Google Colab, Sox should have already been installed in the setup cell at the beginning.)"
   ]
  },
  {
   "cell_type": "code",
   "execution_count": null,
   "id": "1953b2e0",
   "metadata": {
    "execution": {},
    "id": "gAhsmi6HlRzh",
    "papermill": {
     "duration": 1.065168,
     "end_time": "2024-11-07T05:33:12.549824",
     "exception": false,
     "start_time": "2024-11-07T05:33:11.484656",
     "status": "completed"
    },
    "tags": []
   },
   "outputs": [],
   "source": [
    "import os\n",
    "# This is where the an4/ directory will be placed.\n",
    "# Change this if you don't want the data to be extracted in the current directory.\n",
    "data_dir = '.'\n",
    "\n",
    "if not os.path.exists(data_dir):\n",
    "  os.makedirs(data_dir)"
   ]
  },
  {
   "cell_type": "code",
   "execution_count": null,
   "id": "8c0e9651",
   "metadata": {
    "execution": {
     "iopub.execute_input": "2024-11-07T05:19:41.735650Z",
     "iopub.status.busy": "2024-11-07T05:19:41.735259Z",
     "iopub.status.idle": "2024-11-07T05:19:49.211345Z",
     "shell.execute_reply": "2024-11-07T05:19:49.210047Z",
     "shell.execute_reply.started": "2024-11-07T05:19:41.735611Z"
    },
    "id": "Yb4fuUvWlRzk",
    "papermill": {
     "duration": null,
     "end_time": null,
     "exception": null,
     "start_time": null,
     "status": "completed"
    },
    "scrolled": true,
    "tags": []
   },
   "outputs": [],
   "source": [
    "import glob\n",
    "import os\n",
    "import subprocess\n",
    "import tarfile\n",
    "import wget\n",
    "\n",
    "# Download the dataset. This will take a few moments...\n",
    "print(\"******\")\n",
    "if not os.path.exists(data_dir + '/an4_sphere.tar.gz'):\n",
    "    an4_url = 'https://dldata-public.s3.us-east-2.amazonaws.com/an4_sphere.tar.gz'\n",
    "    an4_path = wget.download(an4_url, data_dir)\n",
    "    print(f\"Dataset downloaded at: {an4_path}\")\n",
    "else:\n",
    "    print(\"Tarfile already exists.\")\n",
    "    an4_path = data_dir + '/an4_sphere.tar.gz'\n",
    "\n",
    "if not os.path.exists(data_dir + '/an4/'):\n",
    "    # Untar and convert .sph to .wav (using sox)\n",
    "    tar = tarfile.open(an4_path)\n",
    "    tar.extractall(path=data_dir)\n",
    "\n",
    "    print(\"Converting .sph to .wav...\")\n",
    "    sph_list = glob.glob(data_dir + '/an4/**/*.sph', recursive=True)\n",
    "    for sph_path in sph_list:\n",
    "        wav_path = sph_path[:-4] + '.wav'\n",
    "        cmd = [\"sox\", sph_path, wav_path]\n",
    "        subprocess.run(cmd)\n",
    "print(\"Finished conversion.\\n******\")"
   ]
  },
  {
   "cell_type": "markdown",
   "id": "2469a92a",
   "metadata": {
    "id": "m_LFeM0elRzm",
    "papermill": {
     "duration": null,
     "end_time": null,
     "exception": null,
     "start_time": null,
     "status": "completed"
    },
    "tags": []
   },
   "source": [
    "You should now have a folder called `an4` that contains `etc/an4_train.transcription`, `etc/an4_test.transcription`, audio files in `wav/an4_clstk` and `wav/an4test_clstk`, along with some other files we will not need.\n",
    "\n",
    "Now we can load and take a look at the data. As an example, file `cen2-mgah-b.wav` is a 2.6 second-long audio recording of a man saying the letters \"G L E N N\" one-by-one. To confirm this, we can listen to the file:"
   ]
  },
  {
   "cell_type": "code",
   "execution_count": null,
   "id": "6e3ee7ae",
   "metadata": {
    "execution": {
     "iopub.execute_input": "2024-11-07T05:20:42.263524Z",
     "iopub.status.busy": "2024-11-07T05:20:42.262613Z",
     "iopub.status.idle": "2024-11-07T05:20:56.503619Z",
     "shell.execute_reply": "2024-11-07T05:20:56.502651Z",
     "shell.execute_reply.started": "2024-11-07T05:20:42.263473Z"
    },
    "id": "_M_bSs3MjQlz",
    "papermill": {
     "duration": null,
     "end_time": null,
     "exception": null,
     "start_time": null,
     "status": "completed"
    },
    "tags": []
   },
   "outputs": [],
   "source": [
    "import librosa\n",
    "import IPython.display as ipd\n",
    "\n",
    "# Load and listen to the audio file\n",
    "example_file = data_dir + '/an4/wav/an4_clstk/mgah/cen2-mgah-b.wav'\n",
    "audio, sample_rate = librosa.load(example_file)\n",
    "\n",
    "ipd.Audio(example_file, rate=sample_rate)"
   ]
  },
  {
   "cell_type": "markdown",
   "id": "ff5bdaa9",
   "metadata": {
    "id": "qZyElgPVjQl5",
    "papermill": {
     "duration": null,
     "end_time": null,
     "exception": null,
     "start_time": null,
     "status": "completed"
    },
    "tags": []
   },
   "source": [
    "In an ASR task, if this WAV file was our input, then \"G L E N N\" would be our desired output.\n",
    "\n",
    "Let's plot the waveform, which is simply a line plot of the sequence of values that we read from the file. This is a format of viewing audio that you are likely to be familiar with seeing in many audio editors and visualizers:"
   ]
  },
  {
   "cell_type": "code",
   "execution_count": null,
   "id": "e5303829",
   "metadata": {
    "execution": {
     "iopub.execute_input": "2024-11-07T05:22:24.681661Z",
     "iopub.status.busy": "2024-11-07T05:22:24.681043Z",
     "iopub.status.idle": "2024-11-07T05:22:25.372572Z",
     "shell.execute_reply": "2024-11-07T05:22:25.371464Z",
     "shell.execute_reply.started": "2024-11-07T05:22:24.681614Z"
    },
    "id": "MqIAKkqelRzm",
    "papermill": {
     "duration": null,
     "end_time": null,
     "exception": null,
     "start_time": null,
     "status": "completed"
    },
    "tags": []
   },
   "outputs": [],
   "source": [
    "%matplotlib inline\n",
    "import librosa.display\n",
    "import matplotlib.pyplot as plt\n",
    "\n",
    "# Plot our example audio file's waveform\n",
    "plt.rcParams['figure.figsize'] = (15,7)\n",
    "plt.title('Waveform of Audio Example')\n",
    "plt.ylabel('Amplitude')\n",
    "\n",
    "_ = librosa.display.waveshow(audio, color='blue')"
   ]
  },
  {
   "cell_type": "markdown",
   "id": "b1fb2291",
   "metadata": {
    "id": "Gg6RR_yolRzo",
    "papermill": {
     "duration": null,
     "end_time": null,
     "exception": null,
     "start_time": null,
     "status": "completed"
    },
    "tags": []
   },
   "source": [
    "We can see the activity in the waveform that corresponds to each letter in the audio, as our speaker here enunciates quite clearly!\n",
    "You can kind of tell that each spoken letter has a different \"shape,\" and it's interesting to note that last two blobs look relatively similar, which is expected because they are both the letter \"N.\"\n",
    "\n",
    "### Spectrograms and Mel Spectrograms\n",
    "\n",
    "However, since audio information is more useful in the context of frequencies of sound over time, we can get a better representation than this raw sequence of 57,330 values.\n",
    "We can apply a [Fourier Transform](https://en.wikipedia.org/wiki/Fourier_transform) on our audio signal to get something more useful: a **spectrogram**, which is a representation of the energy levels (i.e. amplitude, or \"loudness\") of each frequency (i.e. pitch) of the signal over the duration of the file.\n",
    "A spectrogram (which can be viewed as a heat map) is a good way of seeing how the *strengths of various frequencies in the audio vary over time*, and is obtained by breaking up the signal into smaller, usually overlapping chunks and performing a Short-Time Fourier Transform (STFT) on each.\n",
    "\n",
    "Let's examine what the spectrogram of our sample looks like."
   ]
  },
  {
   "cell_type": "code",
   "execution_count": null,
   "id": "97e96b9c",
   "metadata": {
    "execution": {
     "iopub.execute_input": "2024-11-07T05:22:30.213846Z",
     "iopub.status.busy": "2024-11-07T05:22:30.212875Z",
     "iopub.status.idle": "2024-11-07T05:22:30.793150Z",
     "shell.execute_reply": "2024-11-07T05:22:30.792173Z",
     "shell.execute_reply.started": "2024-11-07T05:22:30.213790Z"
    },
    "id": "oCFneEs1lRzp",
    "papermill": {
     "duration": null,
     "end_time": null,
     "exception": null,
     "start_time": null,
     "status": "completed"
    },
    "tags": []
   },
   "outputs": [],
   "source": [
    "import numpy as np\n",
    "\n",
    "# Get spectrogram using Librosa's Short-Time Fourier Transform (stft)\n",
    "spec = np.abs(librosa.stft(audio))\n",
    "spec_db = librosa.amplitude_to_db(spec, ref=np.max)  # Decibels\n",
    "\n",
    "# Use log scale to view frequencies\n",
    "librosa.display.specshow(spec_db, y_axis='log', x_axis='time')\n",
    "plt.colorbar()\n",
    "plt.title('Audio Spectrogram');"
   ]
  },
  {
   "cell_type": "markdown",
   "id": "6e95b292",
   "metadata": {
    "id": "9OPc4tcalRzs",
    "papermill": {
     "duration": null,
     "end_time": null,
     "exception": null,
     "start_time": null,
     "status": "completed"
    },
    "tags": []
   },
   "source": [
    "Again, we are able to see each letter being pronounced, and that the last two blobs that correspond to the \"N\"s are pretty similar-looking. But how do we interpret these shapes and colors? Just as in the waveform plot before, we see time passing on the x-axis (all 2.6s of audio). But now, the y-axis represents different frequencies (on a log scale), and *the color on the plot shows the strength of a frequency at a particular point in time*.\n",
    "\n",
    "We're still not done yet, as we can make one more potentially useful tweak: using the **Mel Spectrogram** instead of the normal spectrogram. This is simply a change in the frequency scale that we use from linear (or logarithmic) to the mel scale, which is \"a perceptual scale of pitches judged by listeners to be equal in distance from one another\" (from [Wikipedia](https://en.wikipedia.org/wiki/Mel_scale)).\n",
    "\n",
    "In other words, it's a transformation of the frequencies to be more aligned to what humans perceive; a change of +1000Hz from 2000Hz->3000Hz sounds like a larger difference to us than 9000Hz->10000Hz does, so the mel scale normalizes this such that equal distances sound like equal differences to the human ear. Intuitively, we use the mel spectrogram because in this case we are processing and transcribing human speech, such that transforming the scale to better match what we hear is a useful procedure."
   ]
  },
  {
   "cell_type": "code",
   "execution_count": null,
   "id": "909246f1",
   "metadata": {
    "execution": {
     "iopub.execute_input": "2024-11-07T05:22:35.374860Z",
     "iopub.status.busy": "2024-11-07T05:22:35.373977Z",
     "iopub.status.idle": "2024-11-07T05:22:37.235332Z",
     "shell.execute_reply": "2024-11-07T05:22:37.234425Z",
     "shell.execute_reply.started": "2024-11-07T05:22:35.374813Z"
    },
    "id": "7yQXVn-TlRzt",
    "papermill": {
     "duration": null,
     "end_time": null,
     "exception": null,
     "start_time": null,
     "status": "completed"
    },
    "tags": []
   },
   "outputs": [],
   "source": [
    "# Plot the mel spectrogram of our sample\n",
    "mel_spec = librosa.feature.melspectrogram(y=audio, sr=sample_rate)\n",
    "mel_spec_db = librosa.power_to_db(mel_spec, ref=np.max)\n",
    "\n",
    "librosa.display.specshow(\n",
    "    mel_spec_db, x_axis='time', y_axis='mel')\n",
    "plt.colorbar()\n",
    "plt.title('Mel Spectrogram');"
   ]
  },
  {
   "cell_type": "markdown",
   "id": "c7d77bd2",
   "metadata": {
    "id": "RSCyVizDlRz1",
    "papermill": {
     "duration": null,
     "end_time": null,
     "exception": null,
     "start_time": null,
     "status": "completed"
    },
    "tags": []
   },
   "source": [
    "## Convolutional ASR Models\n",
    "\n",
    "Let's take a look at the model that we will be building, and how we specify its parameters.\n",
    "\n",
    "### The Jasper Model\n",
    "\n",
    "We will be training a small [Jasper (Just Another SPeech Recognizer) model](https://arxiv.org/abs/1904.03288) from scratch (e.g. initialized randomly). \n",
    "In brief, Jasper architectures consist of a repeated block structure that utilizes 1D convolutions.\n",
    "In a Jasper_KxR model, `R` sub-blocks (consisting of a 1D convolution, batch norm, ReLU, and dropout) are grouped into a single block, which is then repeated `K` times.\n",
    "We also have a one extra block at the beginning and a few more at the end that are invariant of `K` and `R`, and we use CTC loss.\n",
    "\n",
    "### The QuartzNet Model\n",
    "\n",
    "The QuartzNet is better variant of Jasper with a key difference that it uses time-channel separable 1D convolutions. This allows it to dramatically reduce number of weights while keeping similar accuracy.\n",
    "\n",
    "A Jasper/QuartzNet models look like this (QuartzNet model is pictured):\n",
    "\n",
    "![QuartzNet with CTC](https://developer.nvidia.com/blog/wp-content/uploads/2020/05/quartznet-model-architecture-1-625x742.png)"
   ]
  },
  {
   "cell_type": "markdown",
   "id": "57501622",
   "metadata": {
    "id": "gEpNci7slRzw",
    "papermill": {
     "duration": null,
     "end_time": null,
     "exception": null,
     "start_time": null,
     "status": "completed"
    },
    "tags": []
   },
   "source": [
    "# Using NeMo for Automatic Speech Recognition\n",
    "\n",
    "Now that we have an idea of what ASR is and how the audio data looks like, we can start using NeMo to do some ASR!\n",
    "\n",
    "We'll be using the **Neural Modules (NeMo) toolkit** for this part, so if you haven't already, you should download and install NeMo and its dependencies. To do so, just follow the directions on the [GitHub page](https://github.com/NVIDIA/NeMo), or in the [documentation](https://docs.nvidia.com/deeplearning/nemo/user-guide/docs/en/stable/).\n",
    "\n",
    "NeMo lets us easily hook together the components (modules) of our model, such as the data layer, intermediate layers, and various losses, without worrying too much about implementation details of individual parts or connections between modules. NeMo also comes with complete models which only require your data and hyperparameters for training."
   ]
  },
  {
   "cell_type": "code",
   "execution_count": null,
   "id": "329dffe5",
   "metadata": {
    "execution": {
     "iopub.execute_input": "2024-11-07T05:23:41.097318Z",
     "iopub.status.busy": "2024-11-07T05:23:41.096913Z",
     "iopub.status.idle": "2024-11-07T05:23:41.103892Z",
     "shell.execute_reply": "2024-11-07T05:23:41.103075Z",
     "shell.execute_reply.started": "2024-11-07T05:23:41.097277Z"
    },
    "id": "4_W0lhaQlRzx",
    "papermill": {
     "duration": null,
     "end_time": null,
     "exception": null,
     "start_time": null,
     "status": "completed"
    },
    "tags": []
   },
   "outputs": [],
   "source": [
    "# NeMo's \"core\" package\n",
    "import nemo\n",
    "# NeMo's ASR collection - this collections contains complete ASR models and\n",
    "# building blocks (modules) for ASR\n",
    "import nemo.collections.asr as nemo_asr"
   ]
  },
  {
   "cell_type": "markdown",
   "id": "25ec50b8",
   "metadata": {
    "id": "v_W8EbYktZE3",
    "papermill": {
     "duration": null,
     "end_time": null,
     "exception": null,
     "start_time": null,
     "status": "completed"
    },
    "tags": []
   },
   "source": [
    "## Using an Out-of-the-Box Model\n",
    "\n",
    "NeMo's ASR collection comes with many building blocks and even complete models that we can use for training and evaluation. Moreover, several models come with pre-trained weights. Let's instantiate a complete QuartzNet15x5 model."
   ]
  },
  {
   "cell_type": "code",
   "execution_count": null,
   "id": "84bc6251",
   "metadata": {
    "execution": {
     "iopub.execute_input": "2024-11-07T05:23:56.535746Z",
     "iopub.status.busy": "2024-11-07T05:23:56.535341Z",
     "iopub.status.idle": "2024-11-07T05:24:00.351511Z",
     "shell.execute_reply": "2024-11-07T05:24:00.350438Z",
     "shell.execute_reply.started": "2024-11-07T05:23:56.535698Z"
    },
    "id": "KFZZpYult96G",
    "papermill": {
     "duration": null,
     "end_time": null,
     "exception": null,
     "start_time": null,
     "status": "completed"
    },
    "tags": []
   },
   "outputs": [],
   "source": [
    "# This line will download pre-trained QuartzNet15x5 model from NVIDIA's NGC cloud and instantiate it for you\n",
    "quartznet = nemo_asr.models.EncDecCTCModel.from_pretrained(model_name=\"QuartzNet15x5Base-En\")"
   ]
  },
  {
   "cell_type": "markdown",
   "id": "513838e1",
   "metadata": {
    "id": "KucxoFJhum0i",
    "papermill": {
     "duration": null,
     "end_time": null,
     "exception": null,
     "start_time": null,
     "status": "completed"
    },
    "tags": []
   },
   "source": [
    "Next, we'll simply add paths to files we want to transcribe into the list and pass it to our model. Note that it will work for relatively short (<25 seconds) files. "
   ]
  },
  {
   "cell_type": "code",
   "execution_count": null,
   "id": "c77c1051",
   "metadata": {
    "id": "3QCpR_93u1hp",
    "papermill": {
     "duration": null,
     "end_time": null,
     "exception": null,
     "start_time": null,
     "status": "completed"
    },
    "tags": []
   },
   "outputs": [],
   "source": [
    "files = [os.path.join(data_dir, 'an4/wav/an4_clstk/mgah/cen2-mgah-b.wav')]\n",
    "for fname, transcription in zip(files, quartznet.transcribe(audio=files)):\n",
    "  print(f\"Audio in {fname} was recognized as: {transcription}\")"
   ]
  },
  {
   "cell_type": "markdown",
   "id": "ac1e4242",
   "metadata": {
    "id": "ppUm_kuavm_f",
    "papermill": {
     "duration": null,
     "end_time": null,
     "exception": null,
     "start_time": null,
     "status": "completed"
    },
    "tags": []
   },
   "source": [
    "That was easy! But there are plenty of scenarios where you would want to fine-tune the model on your own data or even train from scratch. For example, this out-of-the box model will obviously not work for Spanish and would likely perform poorly for telephone audio. So if you have collected your own data, you certainly should attempt to fine-tune or train on it!"
   ]
  },
  {
   "cell_type": "markdown",
   "id": "b53f5c22",
   "metadata": {
    "id": "ABUDaC5Js7AW",
    "papermill": {
     "duration": null,
     "end_time": null,
     "exception": null,
     "start_time": null,
     "status": "completed"
    },
    "tags": []
   },
   "source": [
    "## Training from Scratch\n",
    "\n",
    "To train from scratch, you need to prepare your training data in the right format and specify your models architecture."
   ]
  },
  {
   "cell_type": "markdown",
   "id": "debf5efb",
   "metadata": {
    "id": "RdNyw1b_zgtm",
    "papermill": {
     "duration": null,
     "end_time": null,
     "exception": null,
     "start_time": null,
     "status": "completed"
    },
    "tags": []
   },
   "source": [
    "### Creating Data Manifests\n",
    "\n",
    "The first thing we need to do now is to create manifests for our training and evaluation data, which will contain the metadata of our audio files. NeMo data sets take in a standardized manifest format where each line corresponds to one sample of audio, such that the number of lines in a manifest is equal to the number of samples that are represented by that manifest. A line must contain the path to an audio file, the corresponding transcript (or path to a transcript file), and the duration of the audio sample.\n",
    "\n",
    "Here's an example of what one line in a NeMo-compatible manifest might look like:\n",
    "```\n",
    "{\"audio_filepath\": \"path/to/audio.wav\", \"duration\": 3.45, \"text\": \"this is a nemo tutorial\"}\n",
    "```\n",
    "\n",
    "We can build our training and evaluation manifests using `an4/etc/an4_train.transcription` and `an4/etc/an4_test.transcription`, which have lines containing transcripts and their corresponding audio file IDs:\n",
    "```\n",
    "...\n",
    "<s> P I T T S B U R G H </s> (cen5-fash-b)\n",
    "<s> TWO SIX EIGHT FOUR FOUR ONE EIGHT </s> (cen7-fash-b)\n",
    "...\n",
    "```"
   ]
  },
  {
   "cell_type": "code",
   "execution_count": null,
   "id": "e4bba36a",
   "metadata": {
    "id": "lVB1sG1GlRzz",
    "papermill": {
     "duration": null,
     "end_time": null,
     "exception": null,
     "start_time": null,
     "status": "completed"
    },
    "tags": []
   },
   "outputs": [],
   "source": [
    "# --- Building Manifest Files --- #\n",
    "import json\n",
    "\n",
    "# Function to build a manifest\n",
    "def build_manifest(transcripts_path, manifest_path, wav_path):\n",
    "    with open(transcripts_path, 'r') as fin:\n",
    "        with open(manifest_path, 'w') as fout:\n",
    "            for line in fin:\n",
    "                # Lines look like this:\n",
    "                # <s> transcript </s> (fileID)\n",
    "                transcript = line[: line.find('(')-1].lower()\n",
    "                transcript = transcript.replace('<s>', '').replace('</s>', '')\n",
    "                transcript = transcript.strip()\n",
    "\n",
    "                file_id = line[line.find('(')+1 : -2]  # e.g. \"cen4-fash-b\"\n",
    "                audio_path = os.path.join(\n",
    "                    data_dir, wav_path,\n",
    "                    file_id[file_id.find('-')+1 : file_id.rfind('-')],\n",
    "                    file_id + '.wav')\n",
    "\n",
    "                duration = librosa.core.get_duration(filename=audio_path)\n",
    "\n",
    "                # Write the metadata to the manifest\n",
    "                metadata = {\n",
    "                    \"audio_filepath\": audio_path,\n",
    "                    \"duration\": duration,\n",
    "                    \"text\": transcript\n",
    "                }\n",
    "                json.dump(metadata, fout)\n",
    "                fout.write('\\n')\n",
    "                \n",
    "# Building Manifests\n",
    "print(\"******\")\n",
    "train_transcripts = data_dir + '/an4/etc/an4_train.transcription'\n",
    "train_manifest = data_dir + '/an4/train_manifest.json'\n",
    "if not os.path.isfile(train_manifest):\n",
    "    build_manifest(train_transcripts, train_manifest, 'an4/wav/an4_clstk')\n",
    "    print(\"Training manifest created.\")\n",
    "\n",
    "test_transcripts = data_dir + '/an4/etc/an4_test.transcription'\n",
    "test_manifest = data_dir + '/an4/test_manifest.json'\n",
    "if not os.path.isfile(test_manifest):\n",
    "    build_manifest(test_transcripts, test_manifest, 'an4/wav/an4test_clstk')\n",
    "    print(\"Test manifest created.\")\n",
    "print(\"***Done***\")"
   ]
  },
  {
   "cell_type": "markdown",
   "id": "18adec97",
   "metadata": {
    "id": "W2fShQzRzo-M",
    "papermill": {
     "duration": null,
     "end_time": null,
     "exception": null,
     "start_time": null,
     "status": "completed"
    },
    "tags": []
   },
   "source": [
    "### Specifying Our Model with a YAML Config File\n",
    "\n",
    "For this tutorial, we'll build a *Jasper_4x1 model*, with `K=4` blocks of single (`R=1`) sub-blocks and a *greedy CTC decoder*, using the configuration found in `./configs/config.yaml`.\n",
    "\n",
    "If we open up this config file, we find model section which describes architecture of our model. A model contains an entry labeled `encoder`, with a field called `jasper` that contains a list with multiple entries. Each of the members in this list specifies one block in our model, and looks something like this:\n",
    "```\n",
    "- filters: 128\n",
    "  repeat: 1\n",
    "  kernel: [11]\n",
    "  stride: [2]\n",
    "  dilation: [1]\n",
    "  dropout: 0.2\n",
    "  residual: false\n",
    "  separable: true\n",
    "  se: true\n",
    "  se_context_size: -1\n",
    "```\n",
    "The first member of the list corresponds to the first block in the Jasper architecture diagram, which appears regardless of `K` and `R`.\n",
    "Next, we have four entries that correspond to the `K=4` blocks, and each has `repeat: 1` since we are using `R=1`.\n",
    "These are followed by two more entries for the blocks that appear at the end of our Jasper model before the CTC loss.\n",
    "\n",
    "There are also some entries at the top of the file that specify how we will handle training (`train_ds`) and validation (`validation_ds`) data.\n",
    "\n",
    "Using a YAML config such as this is helpful for getting a quick and human-readable overview of what your architecture looks like, and allows you to swap out model and run configurations easily without needing to change your code."
   ]
  },
  {
   "cell_type": "code",
   "execution_count": null,
   "id": "963bf21a",
   "metadata": {
    "id": "PXVKBniMlRz5",
    "papermill": {
     "duration": null,
     "end_time": null,
     "exception": null,
     "start_time": null,
     "status": "completed"
    },
    "tags": []
   },
   "outputs": [],
   "source": [
    "# --- Config Information ---#\n",
    "try:\n",
    "    from ruamel.yaml import YAML\n",
    "except ModuleNotFoundError:\n",
    "    from ruamel_yaml import YAML\n",
    "config_path = './configs/config.yaml'\n",
    "\n",
    "if not os.path.exists(config_path):\n",
    "    # Grab the config we'll use in this example\n",
    "    BRANCH = 'main'\n",
    "    !mkdir configs\n",
    "    !wget -P configs/ https://raw.githubusercontent.com/NVIDIA/NeMo/$BRANCH/examples/asr/conf/config.yaml\n",
    "\n",
    "yaml = YAML(typ='safe')\n",
    "with open(config_path) as f:\n",
    "    params = yaml.load(f)\n",
    "print(params)"
   ]
  },
  {
   "cell_type": "markdown",
   "id": "c0867e2b",
   "metadata": {
    "id": "wUmq3p2Aw_5N",
    "papermill": {
     "duration": null,
     "end_time": null,
     "exception": null,
     "start_time": null,
     "status": "completed"
    },
    "tags": []
   },
   "source": [
    "### Training with PyTorch Lightning\n",
    "\n",
    "NeMo models and modules can be used in any PyTorch code where torch.nn.Module is expected.\n",
    "\n",
    "However, NeMo's models are based on [PytorchLightning's](https://github.com/PyTorchLightning/pytorch-lightning) LightningModule and we recommend you use PytorchLightning for training and fine-tuning as it makes using mixed precision and distributed training very easy. So to start, let's create Trainer instance for training on GPU for 50 epochs"
   ]
  },
  {
   "cell_type": "code",
   "execution_count": null,
   "id": "f371d02a",
   "metadata": {
    "id": "GUfR6tAK0k2u",
    "papermill": {
     "duration": null,
     "end_time": null,
     "exception": null,
     "start_time": null,
     "status": "completed"
    },
    "tags": []
   },
   "outputs": [],
   "source": [
    "import pytorch_lightning as pl\n",
    "trainer = pl.Trainer(devices=1, accelerator='gpu', max_epochs=50)"
   ]
  },
  {
   "cell_type": "markdown",
   "id": "07c64eea",
   "metadata": {
    "id": "IEn2RyvgxxvO",
    "papermill": {
     "duration": null,
     "end_time": null,
     "exception": null,
     "start_time": null,
     "status": "completed"
    },
    "tags": []
   },
   "source": [
    "Next, we instantiate and ASR model based on our ``config.yaml`` file from the previous section.\n",
    "Note that this is a stage during which we also tell the model where our training and validation manifests are."
   ]
  },
  {
   "cell_type": "code",
   "execution_count": null,
   "id": "37c773ed",
   "metadata": {
    "id": "Cbf0fsMK09lk",
    "papermill": {
     "duration": null,
     "end_time": null,
     "exception": null,
     "start_time": null,
     "status": "completed"
    },
    "tags": []
   },
   "outputs": [],
   "source": [
    "from omegaconf import DictConfig\n",
    "params['model']['train_ds']['manifest_filepath'] = train_manifest\n",
    "params['model']['validation_ds']['manifest_filepath'] = test_manifest\n",
    "first_asr_model = nemo_asr.models.EncDecCTCModel(cfg=DictConfig(params['model']), trainer=trainer)"
   ]
  },
  {
   "cell_type": "markdown",
   "id": "91975b4d",
   "metadata": {
    "id": "hWtzwL5qXTYq",
    "papermill": {
     "duration": null,
     "end_time": null,
     "exception": null,
     "start_time": null,
     "status": "completed"
    },
    "tags": []
   },
   "source": [
    "With that, we can start training with just one line!"
   ]
  },
  {
   "cell_type": "code",
   "execution_count": null,
   "id": "5c3e5d37",
   "metadata": {
    "id": "inRJsnrz1psq",
    "papermill": {
     "duration": null,
     "end_time": null,
     "exception": null,
     "start_time": null,
     "status": "completed"
    },
    "tags": []
   },
   "outputs": [],
   "source": [
    "# Start training!!!\n",
    "trainer.fit(first_asr_model)"
   ]
  },
  {
   "cell_type": "markdown",
   "id": "46372594",
   "metadata": {
    "id": "jpYXX-GslR0E",
    "papermill": {
     "duration": null,
     "end_time": null,
     "exception": null,
     "start_time": null,
     "status": "completed"
    },
    "tags": []
   },
   "source": [
    "There we go! We've put together a full training pipeline for the model and trained it for 50 epochs.\n",
    "\n",
    "If you'd like to save this model checkpoint for loading later (e.g. for fine-tuning, or for continuing training), you can simply call `first_asr_model.save_to(<checkpoint_path>)`. Then, to restore your weights, you can rebuild the model using the config (let's say you call it `first_asr_model_continued` this time) and call `first_asr_model_continued.restore_from(<checkpoint_path>)`.\n",
    "\n",
    "### After Training: Monitoring Progress and Changing Hyperparameters\n",
    "We can  now start Tensorboard to see how training went. Recall that WER stands for Word Error Rate and so the lower it is, the better."
   ]
  },
  {
   "cell_type": "code",
   "execution_count": null,
   "id": "94e92940",
   "metadata": {
    "id": "n_0y3stSXDX_",
    "papermill": {
     "duration": null,
     "end_time": null,
     "exception": null,
     "start_time": null,
     "status": "completed"
    },
    "tags": []
   },
   "outputs": [],
   "source": [
    "try:\n",
    "  from google import colab\n",
    "  COLAB_ENV = True\n",
    "except (ImportError, ModuleNotFoundError):\n",
    "  COLAB_ENV = False\n",
    "\n",
    "# Load the TensorBoard notebook extension\n",
    "if COLAB_ENV:\n",
    "  %load_ext tensorboard\n",
    "  %tensorboard --logdir lightning_logs/\n",
    "else:\n",
    "  print(\"To use tensorboard, please use this notebook in a Google Colab environment.\")"
   ]
  },
  {
   "cell_type": "markdown",
   "id": "203727b4",
   "metadata": {
    "id": "Z0h-BME7U8yb",
    "papermill": {
     "duration": null,
     "end_time": null,
     "exception": null,
     "start_time": null,
     "status": "completed"
    },
    "tags": []
   },
   "source": [
    "We could improve this model by playing with hyperparameters. We can look at the current hyperparameters with the following:"
   ]
  },
  {
   "cell_type": "code",
   "execution_count": null,
   "id": "465b1661",
   "metadata": {
    "id": "7kdQbpohXnEd",
    "papermill": {
     "duration": null,
     "end_time": null,
     "exception": null,
     "start_time": null,
     "status": "completed"
    },
    "tags": []
   },
   "outputs": [],
   "source": [
    "print(params['model']['optim'])"
   ]
  },
  {
   "cell_type": "markdown",
   "id": "2a68b2fe",
   "metadata": {
    "id": "sGZzRCvIW8kE",
    "papermill": {
     "duration": null,
     "end_time": null,
     "exception": null,
     "start_time": null,
     "status": "completed"
    },
    "tags": []
   },
   "source": [
    "Let's say we wanted to change the learning rate. To do so, we can create a `new_opt` dict and set our desired learning rate, then call `<model>.setup_optimization()` with the new optimization parameters."
   ]
  },
  {
   "cell_type": "code",
   "execution_count": null,
   "id": "038947f9",
   "metadata": {
    "id": "AbigFKUtYgvn",
    "papermill": {
     "duration": null,
     "end_time": null,
     "exception": null,
     "start_time": null,
     "status": "completed"
    },
    "tags": []
   },
   "outputs": [],
   "source": [
    "import copy\n",
    "new_opt = copy.deepcopy(params['model']['optim'])\n",
    "new_opt['lr'] = 0.001\n",
    "first_asr_model.setup_optimization(optim_config=DictConfig(new_opt))\n",
    "# And then you can invoke trainer.fit(first_asr_model)"
   ]
  },
  {
   "cell_type": "markdown",
   "id": "3ee4869d",
   "metadata": {
    "id": "D5Kwg8Cz-aaO",
    "papermill": {
     "duration": null,
     "end_time": null,
     "exception": null,
     "start_time": null,
     "status": "completed"
    },
    "tags": []
   },
   "source": [
    "## Inference\n",
    "\n",
    "Let's have a quick look at how one could run inference with NeMo's ASR model.\n",
    "\n",
    "First, ``EncDecCTCModel`` and its subclasses contain a handy ``transcribe`` method which can be used to simply obtain audio files' transcriptions. It also has batch_size argument to improve performance."
   ]
  },
  {
   "cell_type": "code",
   "execution_count": null,
   "id": "8c408aa7",
   "metadata": {
    "id": "3FT0klSV268p",
    "papermill": {
     "duration": null,
     "end_time": null,
     "exception": null,
     "start_time": null,
     "status": "completed"
    },
    "tags": []
   },
   "outputs": [],
   "source": [
    "audio = [os.path.join(data_dir, 'an4/wav/an4_clstk/mgah/cen2-mgah-b.wav'),\n",
    "                     os.path.join(data_dir, 'an4/wav/an4_clstk/fmjd/cen7-fmjd-b.wav'),\n",
    "                     os.path.join(data_dir, 'an4/wav/an4_clstk/fmjd/cen8-fmjd-b.wav'),\n",
    "                     os.path.join(data_dir, 'an4/wav/an4_clstk/fkai/cen8-fkai-b.wav')]\n",
    "print(first_asr_model.transcribe(audio=audio,\n",
    "                                 batch_size=4))"
   ]
  },
  {
   "cell_type": "markdown",
   "id": "ad10007b",
   "metadata": {
    "id": "6FiCfLX0D7py",
    "papermill": {
     "duration": null,
     "end_time": null,
     "exception": null,
     "start_time": null,
     "status": "completed"
    },
    "tags": []
   },
   "source": [
    "Below is an example of a simple inference loop in pure PyTorch. It also shows how one can compute Word Error Rate (WER) metric between predictions and references."
   ]
  },
  {
   "cell_type": "code",
   "execution_count": null,
   "id": "85b1f64a",
   "metadata": {
    "id": "7mP4r1Gx_Ilt",
    "papermill": {
     "duration": null,
     "end_time": null,
     "exception": null,
     "start_time": null,
     "status": "completed"
    },
    "tags": []
   },
   "outputs": [],
   "source": [
    "# Bigger batch-size = bigger throughput\n",
    "params['model']['validation_ds']['batch_size'] = 16\n",
    "\n",
    "# Setup the test data loader and make sure the model is on GPU\n",
    "first_asr_model.setup_test_data(test_data_config=params['model']['validation_ds'])\n",
    "first_asr_model.cuda()\n",
    "first_asr_model.eval()\n",
    "\n",
    "# We will be computing Word Error Rate (WER) metric between our hypothesis and predictions.\n",
    "# WER is computed as numerator/denominator.\n",
    "# We'll gather all the test batches' numerators and denominators.\n",
    "wer_nums = []\n",
    "wer_denoms = []\n",
    "\n",
    "# Loop over all test batches.\n",
    "# Iterating over the model's `test_dataloader` will give us:\n",
    "# (audio_signal, audio_signal_length, transcript_tokens, transcript_length)\n",
    "# See the AudioToCharDataset for more details.\n",
    "for test_batch in first_asr_model.test_dataloader():\n",
    "        test_batch = [x.cuda() for x in test_batch]\n",
    "        targets = test_batch[2]\n",
    "        targets_lengths = test_batch[3]        \n",
    "        log_probs, encoded_len, greedy_predictions = first_asr_model(\n",
    "            input_signal=test_batch[0], input_signal_length=test_batch[1]\n",
    "        )\n",
    "        # Notice the model has a helper object to compute WER\n",
    "        first_asr_model.wer.update(predictions=greedy_predictions, predictions_lengths=None, targets=targets, targets_lengths=targets_lengths)\n",
    "        _, wer_num, wer_denom = first_asr_model.wer.compute()\n",
    "        first_asr_model.wer.reset()\n",
    "        wer_nums.append(wer_num.detach().cpu().numpy())\n",
    "        wer_denoms.append(wer_denom.detach().cpu().numpy())\n",
    "\n",
    "        # Release tensors from GPU memory\n",
    "        del test_batch, log_probs, targets, targets_lengths, encoded_len, greedy_predictions\n",
    "\n",
    "# We need to sum all numerators and denominators first. Then divide.\n",
    "print(f\"WER = {sum(wer_nums)/sum(wer_denoms)}\")"
   ]
  },
  {
   "cell_type": "markdown",
   "id": "670712fc",
   "metadata": {
    "id": "0kM9kBNOCptf",
    "papermill": {
     "duration": null,
     "end_time": null,
     "exception": null,
     "start_time": null,
     "status": "completed"
    },
    "tags": []
   },
   "source": [
    "This WER is not particularly impressive and could be significantly improved. You could train longer (try 100 epochs) to get a better number. Check out the next section on how to improve it further."
   ]
  },
  {
   "cell_type": "markdown",
   "id": "2b8b3470",
   "metadata": {
    "id": "RBcJtg5ulR0H",
    "papermill": {
     "duration": null,
     "end_time": null,
     "exception": null,
     "start_time": null,
     "status": "completed"
    },
    "tags": []
   },
   "source": [
    "## Model Improvements\n",
    "\n",
    "You already have all you need to create your own ASR model in NeMo, but there are a few more tricks that you can employ if you so desire. In this section, we'll briefly cover a few possibilities for improving an ASR model.\n",
    "\n",
    "### Data Augmentation\n",
    "\n",
    "There exist several ASR data augmentation methods that can increase the size of our training set.\n",
    "\n",
    "For example, we can perform augmentation on the spectrograms by zeroing out specific frequency segments (\"frequency masking\") or time segments (\"time masking\") as described by [SpecAugment](https://arxiv.org/abs/1904.08779), or zero out rectangles on the spectrogram as in [Cutout](https://arxiv.org/pdf/1708.04552.pdf). In NeMo, we can do all three of these by simply adding in a `SpectrogramAugmentation` neural module. (As of now, it does not perform the time warping from the SpecAugment paper.)\n",
    "\n",
    "Our toy model does not do spectrogram augmentation. But the real one we got from cloud does:"
   ]
  },
  {
   "cell_type": "code",
   "execution_count": null,
   "id": "810d51f3",
   "metadata": {
    "id": "9glGogaPlR0H",
    "papermill": {
     "duration": null,
     "end_time": null,
     "exception": null,
     "start_time": null,
     "status": "completed"
    },
    "tags": []
   },
   "outputs": [],
   "source": [
    "print(quartznet._cfg['spec_augment'])"
   ]
  },
  {
   "cell_type": "markdown",
   "id": "c6d185cf",
   "metadata": {
    "id": "LdwdcA_a640R",
    "papermill": {
     "duration": null,
     "end_time": null,
     "exception": null,
     "start_time": null,
     "status": "completed"
    },
    "tags": []
   },
   "source": [
    "If you want to enable SpecAugment in your model, make sure your .yaml config file contains 'model/spec_augment' section which looks like the one above."
   ]
  },
  {
   "cell_type": "markdown",
   "id": "5005e773",
   "metadata": {
    "id": "2f142kIQc1Z2",
    "papermill": {
     "duration": null,
     "end_time": null,
     "exception": null,
     "start_time": null,
     "status": "completed"
    },
    "tags": []
   },
   "source": [
    "### Transfer learning\n",
    "\n",
    "Transfer learning is an important machine learning technique that uses a model’s knowledge of one task to make it perform better on another. Fine-tuning is one of the techniques to perform transfer learning. It is an essential part of the recipe for many state-of-the-art results where a base model is first pretrained on a task with abundant training data and then fine-tuned on different tasks of interest where the training data is less abundant or even scarce.\n",
    "\n",
    "In ASR you might want to do fine-tuning in multiple scenarios, for example, when you want to improve your model's performance on a particular domain (medical, financial, etc.) or on accented speech. You can even transfer learn from one language to another! Check out [this paper](https://arxiv.org/abs/2005.04290) for examples.\n",
    "\n",
    "Transfer learning with NeMo is simple. Let's demonstrate how the model we got from the cloud could be fine-tuned on AN4 data. (NOTE: this is a toy example). And, while we are at it, we will change model's vocabulary, just to demonstrate how it's done."
   ]
  },
  {
   "cell_type": "code",
   "execution_count": null,
   "id": "c3e963ab",
   "metadata": {
    "id": "hl320dsydWX0",
    "papermill": {
     "duration": null,
     "end_time": null,
     "exception": null,
     "start_time": null,
     "status": "completed"
    },
    "tags": []
   },
   "outputs": [],
   "source": [
    "# Check what kind of vocabulary/alphabet the model has right now\n",
    "print(quartznet.decoder.vocabulary)\n",
    "\n",
    "# Let's add \"!\" symbol there. Note that you can (and should!) change the vocabulary\n",
    "# entirely when fine-tuning using a different language.\n",
    "quartznet.change_vocabulary(\n",
    "    new_vocabulary=[\n",
    "        ' ', 'a', 'b', 'c', 'd', 'e', 'f', 'g', 'h', 'i', 'j', 'k', 'l', 'm', 'n',\n",
    "        'o', 'p', 'q', 'r', 's', 't', 'u', 'v', 'w', 'x', 'y', 'z', \"'\", \"!\"\n",
    "    ]\n",
    ")"
   ]
  },
  {
   "cell_type": "markdown",
   "id": "61d9afb7",
   "metadata": {
    "id": "M7lvmiMSd3Aw",
    "papermill": {
     "duration": null,
     "end_time": null,
     "exception": null,
     "start_time": null,
     "status": "completed"
    },
    "tags": []
   },
   "source": [
    "After this, our decoder has completely changed, but our encoder (which is where most of the weights are) remained intact. Let's fine tune-this model for 2 epochs on AN4 dataset. We will also use the smaller learning rate from ``new_opt` (see the \"After Training\" section)`."
   ]
  },
  {
   "cell_type": "code",
   "execution_count": null,
   "id": "828d1344",
   "metadata": {
    "id": "_PZJIso-eDl-",
    "papermill": {
     "duration": null,
     "end_time": null,
     "exception": null,
     "start_time": null,
     "status": "completed"
    },
    "tags": []
   },
   "outputs": [],
   "source": [
    "# Use the smaller learning rate we set before\n",
    "quartznet.setup_optimization(optim_config=DictConfig(new_opt))\n",
    "\n",
    "# Point to the data we'll use for fine-tuning as the training set\n",
    "quartznet.setup_training_data(train_data_config=params['model']['train_ds'])\n",
    "\n",
    "# Point to the new validation data for fine-tuning\n",
    "quartznet.setup_validation_data(val_data_config=params['model']['validation_ds'])\n",
    "\n",
    "# And now we can create a PyTorch Lightning trainer and call `fit` again.\n",
    "trainer = pl.Trainer(devices=1, accelerator='gpu', max_epochs=2)\n",
    "trainer.fit(quartznet)"
   ]
  },
  {
   "cell_type": "markdown",
   "id": "1e08f886",
   "metadata": {
    "id": "VURa1NavlR0U",
    "papermill": {
     "duration": null,
     "end_time": null,
     "exception": null,
     "start_time": null,
     "status": "completed"
    },
    "tags": []
   },
   "source": [
    "### Fast Training\n",
    "\n",
    "Last but not least, we could simply speed up training our model! If you have the resources, you can speed up training by splitting the workload across multiple GPUs. Otherwise (or in addition), there's always mixed precision training, which allows you to increase your batch size.\n",
    "\n",
    "You can use [PyTorch Lightning's Trainer object](https://pytorch-lightning.readthedocs.io/en/latest/common/trainer.html?highlight=Trainer) to handle mixed-precision and distributed training for you. Below are some examples of flags you would pass to the `Trainer` to use these features:\n",
    "\n",
    "```python\n",
    "# Mixed precision:\n",
    "trainer = pl.Trainer(amp_level='O1', precision=16)\n",
    "\n",
    "# Trainer with a distributed backend:\n",
    "trainer = pl.Trainer(devices=2, num_nodes=2, accelerator='gpu', strategy='ddp')\n",
    "\n",
    "# Of course, you can combine these flags as well.\n",
    "```\n",
    "\n",
    "Finally, have a look at [example scripts in NeMo repository](https://github.com/NVIDIA/NeMo/blob/stable/examples/asr/asr_ctc/speech_to_text_ctc.py) which can handle mixed precision and distributed training using command-line arguments."
   ]
  },
  {
   "cell_type": "markdown",
   "id": "1991e1e9",
   "metadata": {
    "id": "d1ym8QT3jQnj",
    "papermill": {
     "duration": null,
     "end_time": null,
     "exception": null,
     "start_time": null,
     "status": "completed"
    },
    "tags": []
   },
   "source": [
    "### Deployment\n",
    "\n",
    "Note: It is recommended to run the deployment code from the NVIDIA PyTorch container.\n",
    "\n",
    "Let's get back to our pre-trained model and see how easy it can be exported to an ONNX file\n",
    "in order to run it in an inference engine like TensorRT or ONNXRuntime.\n",
    "\n",
    "If you are running in an environment outside of the NVIDIA PyTorch container (like Google Colab for example) then you will have to build the onnxruntime and onnxruntime-gpu. The cell below gives an example of how to build those runtimes but the example may have to be adapted depending on your environment."
   ]
  },
  {
   "cell_type": "code",
   "execution_count": null,
   "id": "0e5ce881",
   "metadata": {
    "id": "I4WRcmakjQnj",
    "papermill": {
     "duration": null,
     "end_time": null,
     "exception": null,
     "start_time": null,
     "status": "completed"
    },
    "tags": []
   },
   "outputs": [],
   "source": [
    "!pip install --upgrade onnxruntime # for gpu, use onnxruntime-gpu\n",
    "#!mkdir -p ort\n",
    "#%cd ort\n",
    "#!git clean -xfd\n",
    "#!git clone --depth 1 --branch v1.8.0 https://github.com/microsoft/onnxruntime.git .\n",
    "#!./build.sh --skip_tests --config Release --build_shared_lib --parallel --use_cuda --cuda_home /usr/local/cuda --cudnn_home /usr/lib/#x86_64-linux-gnu --build_wheel\n",
    "#!pip uninstall -y onnxruntime\n",
    "#!pip uninstall -y onnxruntime-gpu\n",
    "#!pip install  --upgrade --force-reinstall ./build/Linux/Release/dist/onnxruntime*.whl\n",
    "#%cd .."
   ]
  },
  {
   "cell_type": "markdown",
   "id": "783b366c",
   "metadata": {
    "id": "F9yO1BEbjQnm",
    "papermill": {
     "duration": null,
     "end_time": null,
     "exception": null,
     "start_time": null,
     "status": "completed"
    },
    "tags": []
   },
   "source": [
    "Then run"
   ]
  },
  {
   "cell_type": "code",
   "execution_count": null,
   "id": "1cacf133",
   "metadata": {
    "id": "HZnyWxPyjQnm",
    "papermill": {
     "duration": null,
     "end_time": null,
     "exception": null,
     "start_time": null,
     "status": "completed"
    },
    "tags": []
   },
   "outputs": [],
   "source": [
    "import json\n",
    "import os\n",
    "import tempfile\n",
    "import onnxruntime\n",
    "import torch\n",
    "\n",
    "import numpy as np\n",
    "import nemo.collections.asr as nemo_asr\n",
    "from nemo.collections.asr.data.audio_to_text import AudioToCharDataset\n",
    "from nemo.collections.asr.metrics.wer import WER\n",
    "\n",
    "def to_numpy(tensor):\n",
    "    return tensor.detach().cpu().numpy() if tensor.requires_grad else tensor.cpu().numpy()\n",
    "\n",
    "def setup_transcribe_dataloader(cfg, vocabulary):\n",
    "    config = {\n",
    "        'manifest_filepath': os.path.join(cfg['temp_dir'], 'manifest.json'),\n",
    "        'sample_rate': 16000,\n",
    "        'labels': vocabulary,\n",
    "        'batch_size': min(cfg['batch_size'], len(cfg['audio'])),\n",
    "        'trim_silence': True,\n",
    "        'shuffle': False,\n",
    "    }\n",
    "    dataset = AudioToCharDataset(\n",
    "        manifest_filepath=config['manifest_filepath'],\n",
    "        labels=config['labels'],\n",
    "        sample_rate=config['sample_rate'],\n",
    "        int_values=config.get('int_values', False),\n",
    "        augmentor=None,\n",
    "        max_duration=config.get('max_duration', None),\n",
    "        min_duration=config.get('min_duration', None),\n",
    "        max_utts=config.get('max_utts', 0),\n",
    "        blank_index=config.get('blank_index', -1),\n",
    "        unk_index=config.get('unk_index', -1),\n",
    "        normalize=config.get('normalize_transcripts', False),\n",
    "        trim=config.get('trim_silence', True),\n",
    "        parser=config.get('parser', 'en'),\n",
    "    )\n",
    "    return torch.utils.data.DataLoader(\n",
    "        dataset=dataset,\n",
    "        batch_size=config['batch_size'],\n",
    "        collate_fn=dataset.collate_fn,\n",
    "        drop_last=config.get('drop_last', False),\n",
    "        shuffle=False,\n",
    "        num_workers=config.get('num_workers', 0),\n",
    "        pin_memory=config.get('pin_memory', False),\n",
    "    )\n",
    "\n",
    "quartznet = nemo_asr.models.EncDecCTCModel.from_pretrained(model_name=\"QuartzNet15x5Base-En\")\n",
    "\n",
    "quartznet.export('qn.onnx')\n",
    "\n",
    "ort_session = onnxruntime.InferenceSession('qn.onnx', providers=['TensorrtExecutionProvider', 'CUDAExecutionProvider', 'CPUExecutionProvider'])\n",
    "\n",
    "with tempfile.TemporaryDirectory() as tmpdir:\n",
    "    with open(os.path.join(tmpdir, 'manifest.json'), 'w') as fp:\n",
    "        for audio_file in files:\n",
    "            entry = {'audio_filepath': audio_file, 'duration': 100000, 'text': 'nothing'}\n",
    "            fp.write(json.dumps(entry) + '\\n')\n",
    "\n",
    "    config = {'audio': files, 'batch_size': 4, 'temp_dir': tmpdir}\n",
    "    temporary_datalayer = setup_transcribe_dataloader(config, quartznet.decoder.vocabulary)\n",
    "    for test_batch in temporary_datalayer:\n",
    "        processed_signal, processed_signal_len = quartznet.preprocessor(\n",
    "            input_signal=test_batch[0].to(quartznet.device), length=test_batch[1].to(quartznet.device)\n",
    "        )\n",
    "        ort_inputs = {ort_session.get_inputs()[0].name: to_numpy(processed_signal),}\n",
    "        ologits = ort_session.run(None, ort_inputs)\n",
    "        alogits = np.asarray(ologits)\n",
    "        logits = torch.from_numpy(alogits[0])\n",
    "        greedy_predictions = logits.argmax(dim=-1, keepdim=False)\n",
    "        wer = WER(decoding=quartznet.decoding, use_cer=False)\n",
    "        hypotheses, _ = wer.decoding.ctc_decoder_predictions_tensor(greedy_predictions)\n",
    "        print(hypotheses)\n",
    "        break\n"
   ]
  },
  {
   "cell_type": "markdown",
   "id": "c5617f27",
   "metadata": {
    "id": "wteGqroafWg1",
    "papermill": {
     "duration": null,
     "end_time": null,
     "exception": null,
     "start_time": null,
     "status": "completed"
    },
    "tags": []
   },
   "source": [
    "## Under the Hood\n",
    "\n",
    "NeMo is open-source and we do all our model development in the open, so you can inspect our code if you wish.\n",
    "\n",
    "In particular, ``nemo_asr.model.EncDecCTCModel`` is an encoder-decoder model which is constructed using several ``Neural Modules`` taken from ``nemo_asr.modules.`` Here is what its forward pass looks like:\n",
    "```python\n",
    "def forward(self, input_signal, input_signal_length):\n",
    "    processed_signal, processed_signal_len = self.preprocessor(\n",
    "        input_signal=input_signal, length=input_signal_length,\n",
    "    )\n",
    "    # Spec augment is not applied during evaluation/testing\n",
    "    if self.spec_augmentation is not None and self.training:\n",
    "        processed_signal = self.spec_augmentation(input_spec=processed_signal)\n",
    "    encoded, encoded_len = self.encoder(audio_signal=processed_signal, length=processed_signal_len)\n",
    "    log_probs = self.decoder(encoder_output=encoded)\n",
    "    greedy_predictions = log_probs.argmax(dim=-1, keepdim=False)\n",
    "    return log_probs, encoded_len, greedy_predictions\n",
    "```\n",
    "Here:\n",
    "\n",
    "* ``self.preprocessor`` is an instance of ``nemo_asr.modules.AudioToMelSpectrogramPreprocessor``, which is a neural module that takes audio signal and converts it into a Mel-Spectrogram\n",
    "* ``self.spec_augmentation`` - is a neural module of type ```nemo_asr.modules.SpectrogramAugmentation``, which implements data augmentation. \n",
    "* ``self.encoder`` - is a convolutional Jasper/QuartzNet-like encoder of type ``nemo_asr.modules.ConvASREncoder``\n",
    "* ``self.decoder`` - is a ``nemo_asr.modules.ConvASRDecoder`` which simply projects into the target alphabet (vocabulary).\n",
    "\n",
    "Also, ``EncDecCTCModel`` uses the audio dataset class ``nemo_asr.data.AudioToCharDataset`` and CTC loss implemented in ``nemo_asr.losses.CTCLoss``.\n",
    "\n",
    "You can use these and other neural modules (or create new ones yourself!) to construct new ASR models."
   ]
  },
  {
   "cell_type": "markdown",
   "id": "1e815812",
   "metadata": {
    "id": "smzlvbhelR0U",
    "papermill": {
     "duration": null,
     "end_time": null,
     "exception": null,
     "start_time": null,
     "status": "completed"
    },
    "tags": []
   },
   "source": [
    "# Further Reading/Watching:\n",
    "\n",
    "That's all for now! If you'd like to learn more about the topics covered in this tutorial, here are some resources that may interest you:\n",
    "- [Stanford Lecture on ASR](https://www.youtube.com/watch?v=3MjIkWxXigM)\n",
    "- [\"An Intuitive Explanation of Connectionist Temporal Classification\"](https://towardsdatascience.com/intuitively-understanding-connectionist-temporal-classification-3797e43a86c)\n",
    "- [Explanation of CTC with Prefix Beam Search](https://medium.com/corti-ai/ctc-networks-and-language-models-prefix-beam-search-explained-c11d1ee23306)\n",
    "- [Listen Attend and Spell Paper (seq2seq ASR model)](https://arxiv.org/abs/1508.01211)\n",
    "- [Explanation of the mel spectrogram in more depth](https://towardsdatascience.com/getting-to-know-the-mel-spectrogram-31bca3e2d9d0)\n",
    "- [Jasper Paper](https://arxiv.org/abs/1904.03288)\n",
    "- [QuartzNet paper](https://arxiv.org/abs/1910.10261)\n",
    "- [SpecAugment Paper](https://arxiv.org/abs/1904.08779)\n",
    "- [Explanation and visualization of SpecAugment](https://towardsdatascience.com/state-of-the-art-audio-data-augmentation-with-google-brains-specaugment-and-pytorch-d3d1a3ce291e)\n",
    "- [Cutout Paper](https://arxiv.org/pdf/1708.04552.pdf)\n",
    "- [Transfer Learning Blogpost](https://developer.nvidia.com/blog/jump-start-training-for-speech-recognition-models-with-nemo/)"
   ]
  },
  {
   "cell_type": "code",
   "execution_count": null,
   "id": "77463b7b",
   "metadata": {
    "id": "V3ERGX86lR0V",
    "papermill": {
     "duration": null,
     "end_time": null,
     "exception": null,
     "start_time": null,
     "status": "completed"
    },
    "tags": []
   },
   "outputs": [],
   "source": []
  }
 ],
 "metadata": {
  "accelerator": "GPU",
  "colab": {
   "collapsed_sections": [],
   "name": "ASR_with_NeMo.ipynb",
   "provenance": [],
   "toc_visible": true
  },
  "kaggle": {
   "accelerator": "nvidiaTeslaT4",
   "dataSources": [],
   "dockerImageVersionId": 30787,
   "isGpuEnabled": true,
   "isInternetEnabled": true,
   "language": "python",
   "sourceType": "notebook"
  },
  "kernelspec": {
   "display_name": "Python 3",
   "language": "python",
   "name": "python3"
  },
  "language_info": {
   "codemirror_mode": {
    "name": "ipython",
    "version": 3
   },
   "file_extension": ".py",
   "mimetype": "text/x-python",
   "name": "python",
   "nbconvert_exporter": "python",
   "pygments_lexer": "ipython3",
   "version": "3.10.14"
  },
  "papermill": {
   "default_parameters": {},
   "duration": 267.938741,
   "end_time": "2024-11-07T05:33:13.092587",
   "environment_variables": {},
   "exception": null,
   "input_path": "__notebook__.ipynb",
   "output_path": "__notebook__.ipynb",
   "parameters": {},
   "start_time": "2024-11-07T05:28:45.153846",
   "version": "2.6.0"
  }
 },
 "nbformat": 4,
 "nbformat_minor": 5
}
